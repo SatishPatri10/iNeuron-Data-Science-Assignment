{
 "cells": [
  {
   "cell_type": "markdown",
   "id": "a8edb7eb-7320-453d-95c5-0eafc6c10274",
   "metadata": {},
   "source": [
    "__1. Print the first 5 positive integers in ascending order with one number in each line.__"
   ]
  },
  {
   "cell_type": "code",
   "execution_count": 1,
   "id": "68b57040-7930-4010-9c75-205c1786e970",
   "metadata": {},
   "outputs": [
    {
     "name": "stdout",
     "output_type": "stream",
     "text": [
      "1\n",
      "2\n",
      "3\n",
      "4\n",
      "5\n"
     ]
    }
   ],
   "source": [
    "for i in range(5):\n",
    "    print(i+1)"
   ]
  },
  {
   "cell_type": "markdown",
   "id": "11ac5810",
   "metadata": {},
   "source": [
    "__2.Print the following pattern__\n",
    "\n",
    "    * \n",
    "    **\n",
    "    ***\n",
    "    ****\n",
    "    *****\n",
    "\n",
    "__There are no spaces between consecutive stars. There are no spaces at the end of each line.__"
   ]
  },
  {
   "cell_type": "code",
   "execution_count": 2,
   "id": "dd8460e0-ee19-48fd-bb9c-83ace6c4ba38",
   "metadata": {},
   "outputs": [
    {
     "name": "stdout",
     "output_type": "stream",
     "text": [
      "*\n",
      "**\n",
      "***\n",
      "****\n",
      "*****\n"
     ]
    }
   ],
   "source": [
    "for i in range(1,6):\n",
    "    print(\"*\"*i)"
   ]
  },
  {
   "cell_type": "markdown",
   "id": "d9263791-a394-44ee-8ba9-4fb01759b6ac",
   "metadata": {},
   "source": [
    "__3. Accept an integer as input and print its square as output.__"
   ]
  },
  {
   "cell_type": "code",
   "execution_count": 3,
   "id": "88488bd6-9988-42b9-881b-bad600ee3ff2",
   "metadata": {},
   "outputs": [
    {
     "name": "stdout",
     "output_type": "stream",
     "text": [
      "Enter a number: 55\n",
      "The power of the  55  is  3025\n"
     ]
    }
   ],
   "source": [
    "a = int(input(\"Enter a number: \"))\n",
    "print(\"The power of the \",a,\" is \",pow(a,2))"
   ]
  },
  {
   "cell_type": "markdown",
   "id": "49ca4411-ab36-4e57-8d62-3628156bc49b",
   "metadata": {},
   "source": [
    "__4.Accept two integers as input and print their sum as output.__"
   ]
  },
  {
   "cell_type": "code",
   "execution_count": 4,
   "id": "f10759bc-2e92-481d-ba13-65b35529b391",
   "metadata": {},
   "outputs": [
    {
     "name": "stdout",
     "output_type": "stream",
     "text": [
      "Enter 1st number: 52\n",
      "Enter 2nd number: 23\n",
      "The Sum is  75\n"
     ]
    }
   ],
   "source": [
    "a = int(input(\"Enter 1st number: \"))\n",
    "b = int(input(\"Enter 2nd number: \"))\n",
    "sum = a+b\n",
    "print(\"The Sum is \", sum)"
   ]
  },
  {
   "cell_type": "markdown",
   "id": "f303afc2-f3af-4d9d-a4d8-7c2da8f24e3c",
   "metadata": {},
   "source": [
    "__5. Accept two words as input and print the two words after adding a space between them__"
   ]
  },
  {
   "cell_type": "code",
   "execution_count": 5,
   "id": "9841ad5a-07e4-44b8-a14d-7921d7b5c7e9",
   "metadata": {},
   "outputs": [
    {
     "name": "stdout",
     "output_type": "stream",
     "text": [
      "Enter 1st word: mango\n",
      "Enter 2nd word: jiuce\n",
      "The Sum of word is  mango jiuce\n"
     ]
    }
   ],
   "source": [
    "a = input(\"Enter 1st word: \")\n",
    "b = input(\"Enter 2nd word: \")\n",
    "sum = a+\" \"+b\n",
    "print(\"The Sum of word is \", sum)"
   ]
  },
  {
   "cell_type": "markdown",
   "id": "1fdd53ab-a380-4caa-bdec-2876024a044d",
   "metadata": {},
   "source": [
    "__6. Accept the registration number of a vehicle as input and print its \n",
    "state-code as output.__"
   ]
  },
  {
   "cell_type": "code",
   "execution_count": 6,
   "id": "4f7a4415-c2a4-4b36-bac8-d500c4d4cfc4",
   "metadata": {},
   "outputs": [
    {
     "name": "stdout",
     "output_type": "stream",
     "text": [
      "Enter Vehicle Registartion NumberOD24527\n",
      "OD\n"
     ]
    }
   ],
   "source": [
    "a = input(\"Enter Vehicle Registartion Number\")\n",
    "print(a[0:2])"
   ]
  },
  {
   "cell_type": "markdown",
   "id": "e476d0d4-2d90-4764-b4ce-91d6d67729c2",
   "metadata": {},
   "source": [
    "__7.Accept a five-digit number as input and print the sum of its digits as \n",
    "output.__"
   ]
  },
  {
   "cell_type": "code",
   "execution_count": 7,
   "id": "0fd87b63-0b8e-4c07-8aa2-2bab0879c4f2",
   "metadata": {},
   "outputs": [
    {
     "name": "stdout",
     "output_type": "stream",
     "text": [
      "Enter number: 12345\n",
      "Sum of digits:  15\n"
     ]
    }
   ],
   "source": [
    "n=int(input(\"Enter number: \"))\n",
    "sum=0\n",
    "for digit in str(n):\n",
    "    sum=sum+int(digit)\n",
    "\n",
    "print(\"Sum of digits: \",sum)"
   ]
  },
  {
   "cell_type": "markdown",
   "id": "47ef2a83-4d51-4340-8770-9490474f43a9",
   "metadata": {},
   "source": [
    "__8.Accept five words as input and print the sentence formed by these words after adding a space between consecutive words and a full stop at the end.__"
   ]
  },
  {
   "cell_type": "code",
   "execution_count": 8,
   "id": "869cd5e4-9388-42b5-8b51-2ccd417b97b8",
   "metadata": {},
   "outputs": [
    {
     "name": "stdout",
     "output_type": "stream",
     "text": [
      "India\n",
      "is\n",
      "a\n",
      "big\n",
      "country\n",
      "India is a big country.\n"
     ]
    }
   ],
   "source": [
    "a= input()\n",
    "b= input()\n",
    "c= input()\n",
    "d= input()\n",
    "e= input()\n",
    "print(a+' '+b+' '+c+' '+d+' '+e+'.')"
   ]
  },
  {
   "cell_type": "markdown",
   "id": "7b0fb9d7-98dc-4ab9-9548-c12f49f787a0",
   "metadata": {},
   "source": [
    "__9.Accept the date in DD-MM-YYYY format as input and print the year as output.__"
   ]
  },
  {
   "cell_type": "code",
   "execution_count": 9,
   "id": "bab81733-bb2d-407a-9856-11d07c0da477",
   "metadata": {},
   "outputs": [
    {
     "name": "stdout",
     "output_type": "stream",
     "text": [
      "Enter the date: 14-8-1998\n",
      "1998\n"
     ]
    }
   ],
   "source": [
    "date = input(\"Enter the date: \")\n",
    "year = date[-4:]\n",
    "print(year)"
   ]
  },
  {
   "cell_type": "markdown",
   "id": "521abc20-5c4a-4fda-a3d7-45c626ad4d1c",
   "metadata": {},
   "source": [
    "__10.Accept a sequence of five single digit numbers separated by commas \n",
    "as input. Print the product of all five numbers.__"
   ]
  },
  {
   "cell_type": "code",
   "execution_count": 10,
   "id": "2f027841-e752-4aed-ac17-94952eb927bb",
   "metadata": {},
   "outputs": [
    {
     "name": "stdout",
     "output_type": "stream",
     "text": [
      "120\n"
     ]
    }
   ],
   "source": [
    "num = [1,2,3,4,5]\n",
    "prod = 1\n",
    "for i in num:\n",
    "    if i!=',':\n",
    "        prod = prod * int(i)\n",
    "print(prod)"
   ]
  },
  {
   "cell_type": "markdown",
   "id": "482e853e-2564-4eaf-a46b-0f31d3369f58",
   "metadata": {},
   "source": [
    "__11. Accept two positive integers x and y as input. Print the number of \n",
    "digits in xy__"
   ]
  },
  {
   "cell_type": "code",
   "execution_count": 11,
   "id": "df5b88ad-ae44-42b3-abf5-d87c6d55589b",
   "metadata": {},
   "outputs": [
    {
     "name": "stdout",
     "output_type": "stream",
     "text": [
      "5\n",
      "6\n",
      "The total digit are 5\n"
     ]
    }
   ],
   "source": [
    "a = int(input())\n",
    "b = int(input())\n",
    "res= a**b\n",
    "res_str = str(res)\n",
    "print('The total digit are' ,len(res_str))"
   ]
  },
  {
   "cell_type": "markdown",
   "id": "af890b67-6c1f-412c-bbbe-8fc1358e0a91",
   "metadata": {},
   "source": [
    "__12. Accept a string as input. If the input string is of odd length, then continue with it. If the input string is of even length, make the string of odd length as below:__\n",
    "\n",
    " * If the last character is a period (.), then remove it.\n",
    " * If the last character is not a period, then add a period (.) to theend of the stringCall this string of odd length word.\n",
    "\n",
    "__Select a substring made up of three consecutive characters from word such that there are an equal number of characters to the left and right of this substring. Print this substring as output. You can assume that all input strings will be in lower case and will have a length of at least four__"
   ]
  },
  {
   "cell_type": "code",
   "execution_count": 12,
   "id": "e2a3ffb3-718c-4f3a-a2e9-b391427b6c06",
   "metadata": {},
   "outputs": [
    {
     "name": "stdout",
     "output_type": "stream",
     "text": [
      "venus\n",
      "enu\n"
     ]
    }
   ],
   "source": [
    "s= input()\n",
    "n=len(s)\n",
    "if n%2==0:\n",
    "    if s[n-1]=='.':\n",
    "        s=s[:-1]\n",
    "    else:\n",
    "        s=s+'.'\n",
    "n = int((len(s)-1)/2)\n",
    "print(s[n-1:n+2])"
   ]
  },
  {
   "cell_type": "markdown",
   "id": "7188ddf7-aeae-43c7-add9-8a31e08a2bc9",
   "metadata": {},
   "source": [
    "__13. Accept three positive integers as input and check if they form the \n",
    "sides of a right triangle. Print YES if they form one, and NO is they do \n",
    "not. The input will have three lines, with one integer on each line. \n",
    "The output should be a single line containing one of these two \n",
    "strings: YES or NO.__"
   ]
  },
  {
   "cell_type": "code",
   "execution_count": 13,
   "id": "7f47f553-2ce2-41ca-87d5-e9c288559888",
   "metadata": {},
   "outputs": [
    {
     "name": "stdout",
     "output_type": "stream",
     "text": [
      "3\n",
      "4\n",
      "5\n",
      "yes\n"
     ]
    }
   ],
   "source": [
    "x= int(input())\n",
    "y= int(input())\n",
    "z= int(input())\n",
    "if ((pow(x,2) + pow(y,2) == pow(z,2)) or (pow(y,2) + pow(z,2) == pow(x,2)) or (pow(z,2) + pow(x,2) == pow(y,2))):\n",
    "    print('yes')\n",
    "else:\n",
    "    print('no')"
   ]
  },
  {
   "cell_type": "markdown",
   "id": "5e16b40c-a122-4dbc-a681-bca1fe32a1dc",
   "metadata": {},
   "source": [
    "__14. EvenOdd is a tech startup. Each employee at the startup is given an employee id which is a unique \n",
    "positive integer. On one warm Sunday evening, five employees of the company come together for a \n",
    "meeting and sit at a circular table:\n",
    "The employees follow a strange convention. They will continue the meeting only if the following \n",
    "condition is satisfied.\n",
    "The sum of the employee-ids of every pair of adjacent employees at the table must be an even \n",
    "number.\n",
    "They are so lazy that they won’t move around to satisfy the above condition, If the current seating \n",
    "plan doesn’t satisfy the condition, the meeting will be cancelled. You are given the employee-id of all \n",
    "five employees. Your task is to decide if the meeting happened or not.\n",
    "The input will be five lined, each containing an integer. The ith line will have the employee-id of Ei. \n",
    "The output will be a single line containing one of these two strings: YES or NO__"
   ]
  },
  {
   "cell_type": "code",
   "execution_count": 14,
   "id": "0614dfa3",
   "metadata": {},
   "outputs": [
    {
     "name": "stdout",
     "output_type": "stream",
     "text": [
      "23\n",
      "53\n",
      "45\n",
      "15\n",
      "26\n",
      "No\n"
     ]
    }
   ],
   "source": [
    "emp1 = int(input())\n",
    "emp2 = int(input())\n",
    "emp3 = int(input())\n",
    "emp4 = int(input())\n",
    "emp5 = int(input())\n",
    "\n",
    "if ((emp1+emp2) % 2 == 0 and\n",
    "    (emp2+emp3) % 2 == 0 and\n",
    "    (emp3+emp4) % 2 == 0 and\n",
    "    (emp4+emp5) % 2 == 0 and\n",
    "    (emp5+emp1) % 2 == 0 ):\n",
    "    print(\"Yes\")\n",
    "else:\n",
    "    print(\"No\")"
   ]
  },
  {
   "cell_type": "markdown",
   "id": "1d651eb9-add5-4f2b-9a92-57303f327be3",
   "metadata": {},
   "source": [
    "__15. Accept a string as input and print the vowels present in the string in \n",
    "alphabetical order. If the string doesn’t contain any vowels, then \n",
    "print the string none as output. Each vowel that appears in the input \n",
    "string – irrespective of its case should appear just once in lower case \n",
    "in the output.__"
   ]
  },
  {
   "cell_type": "code",
   "execution_count": 15,
   "id": "c3c79cf0",
   "metadata": {},
   "outputs": [
    {
     "name": "stdout",
     "output_type": "stream",
     "text": [
      "Enter a string: Elephant\n",
      "Elephant\n",
      "['E', 'l', 'e', 'p', 'h', 'a', 'n', 't']\n",
      "Vowels found are: \n",
      "{'a', 'e'}\n"
     ]
    }
   ],
   "source": [
    "n = input(\"Enter a string: \")\n",
    "print(n)\n",
    "lst = list(n)\n",
    "print(lst)\n",
    "vols = ['a','e','i','o','u']\n",
    "\n",
    "out=[]\n",
    "for each in lst:\n",
    "    if each in vols:\n",
    "        out.append(each)\n",
    "print(\"Vowels found are: \")\n",
    "print(set(out))"
   ]
  },
  {
   "cell_type": "markdown",
   "id": "f7e76b4b-b3f7-4766-a82b-5e63a879b380",
   "metadata": {},
   "source": [
    "__16.You are given the date of birth of two persons, not necessarily from the same family. Your task is to find the younger of the two. If both of them share the same date of birth, then the younger of the two is \n",
    "assumed to be that person whose name comes first in alphabetical order. The input will have four lines. The first two lines correspond to the first person, while the last two lines correspond to the second person. For each person, the first line corresponds to the name and the second line corresponds to the date of birth in “DD-MM-YYYY” \n",
    "format. Your output should be the name of the younger of the two.__"
   ]
  },
  {
   "cell_type": "code",
   "execution_count": 16,
   "id": "4467ffe0",
   "metadata": {},
   "outputs": [
    {
     "name": "stdout",
     "output_type": "stream",
     "text": [
      "Enter the first person name: Ana\n",
      "Enter the first person dob in 'DD-MM-YYYY' format: 10-08-1998\n",
      "Enter the 2nd person name: Sam\n",
      "Enter the 2nd person dob in 'DD-MM-YYYY' formart: 10-08-1998\n",
      "The Ana is younger than Sam\n"
     ]
    }
   ],
   "source": [
    "import datetime as dt\n",
    "name1=input(\"Enter the first person name: \")\n",
    "age1=input(\"Enter the first person dob in 'DD-MM-YYYY' format: \")\n",
    "name2=input(\"Enter the 2nd person name: \")\n",
    "age2=input(\"Enter the 2nd person dob in 'DD-MM-YYYY' formart: \")\n",
    "dob1=dt.date(int(age1[6:]),int(age1[3:5]),int(age1[0:2]))\n",
    "dob2=dt.date(int(age1[6:]),int(age1[3:5]),int(age1[0:2]))\n",
    "if(dob1<dob2):\n",
    "    print(f\"The {name1} is younger than {name2}\")\n",
    "elif(dob1>dob2):\n",
    "    print(f\"The {name2} is younger than {name1}\")\n",
    "else:\n",
    "    if name1[0]<name2[0]:\n",
    "        print(f\"The {name1} is younger than {name2}\")\n",
    "    else:\n",
    "        print(f\"The {name2} is younger than {name1}\")"
   ]
  },
  {
   "cell_type": "markdown",
   "id": "6ee8f8bd-15aa-40d8-9cef-2f7e22f6cf5d",
   "metadata": {},
   "source": [
    "__17.Accept a string as input. Your task is to determine if the input string is a valid password or not. For a \n",
    "string to be a valid password, it must satisfy all the conditions given below:\n",
    "(1) It should have at least 8 and at most 32 characters\n",
    "(2) It should start with an uppercase or lowercase letter\n",
    "(3) It should not have any of these characters: / \\ = ' \"\n",
    "(4) It should not have spaces\n",
    "It could have any character that is not mentioned in the list of characters to be avoided (points 3 and \n",
    "4). Output True if the string forms a valid password and False otherwise__"
   ]
  },
  {
   "cell_type": "code",
   "execution_count": 17,
   "id": "fb954bd6",
   "metadata": {},
   "outputs": [
    {
     "name": "stdout",
     "output_type": "stream",
     "text": [
      "Dhoni@1339\n",
      "False\n"
     ]
    }
   ],
   "source": [
    "password = input()\n",
    "if 8 <= len(password) <=32 and password[0].isalpha() and '/' not in password and '\\\\' not in password and '=' not in password and '\\\"' not in password and ' ' in password:\n",
    "    print(\"True\")\n",
    "else:\n",
    "    print(\"False\")"
   ]
  },
  {
   "cell_type": "markdown",
   "id": "a4d2f09c-6787-477e-8ed5-4ed4257469cb",
   "metadata": {},
   "source": [
    "__18. Accept a positive integer n as input and print the first n positive \n",
    "integers, one number on each line.__"
   ]
  },
  {
   "cell_type": "code",
   "execution_count": 18,
   "id": "d008f4de",
   "metadata": {},
   "outputs": [
    {
     "name": "stdout",
     "output_type": "stream",
     "text": [
      "5\n",
      "5\n",
      "1\n",
      "2\n",
      "3\n",
      "4\n",
      "5\n"
     ]
    }
   ],
   "source": [
    "num = int(input())\n",
    "print(num)\n",
    "for i in range(1,num+1):\n",
    "    print(i)"
   ]
  },
  {
   "cell_type": "markdown",
   "id": "0527265b-0110-476d-8bf6-6a724749197e",
   "metadata": {},
   "source": [
    "__19.Accept a positive integer n as input, where n is greater than 1. \n",
    "Print PRIME ifnis a prime number and NOTPRIME otherwise.__"
   ]
  },
  {
   "cell_type": "code",
   "execution_count": 19,
   "id": "3ed739d7",
   "metadata": {},
   "outputs": [
    {
     "name": "stdout",
     "output_type": "stream",
     "text": [
      "53\n",
      "53 is prime\n"
     ]
    }
   ],
   "source": [
    "n=int(input())\n",
    "res=True\n",
    "for i in range(2,n):\n",
    "    if(n%i==0):\n",
    "        res=False\n",
    "        break\n",
    "if res==True:\n",
    "    print(n,\"is prime\")\n",
    "else:\n",
    "    print(n, \"is not prime\")"
   ]
  },
  {
   "cell_type": "markdown",
   "id": "8d8297d3-a658-4afd-9b7f-b2ee198faa52",
   "metadata": {},
   "source": [
    "__20. Accept two strings as input and form a new string by removing all \n",
    "characters from the second string which are present in the first string. \n",
    "Print this new string as output. You can assume that all input strings \n",
    "will be in lower case.__"
   ]
  },
  {
   "cell_type": "code",
   "execution_count": 20,
   "id": "d067a079",
   "metadata": {},
   "outputs": [
    {
     "name": "stdout",
     "output_type": "stream",
     "text": [
      "america\n",
      "india\n",
      "nd\n"
     ]
    }
   ],
   "source": [
    "a = input()\n",
    "b = input()\n",
    "for c in a:\n",
    "    if c in b:\n",
    "        b= b.replace(c, '')\n",
    "print(b)"
   ]
  },
  {
   "cell_type": "markdown",
   "id": "325880b0",
   "metadata": {},
   "source": [
    "__21.Accept a phone number as input. A valid phone number should satisfy the following constraints.__\n",
    "  * The number should start with one of these digits: 6, 7, 8, 9\n",
    "  * The number should be exactly 10 digits long.\n",
    "  * No digit should appear more than 7 times in the number.\n",
    "  * No digit should appear more than 5 times in a row in the number.\n",
    "\n",
    "__If the fourth condition is not very clear, then consider this example:__\n",
    "   * the number 9888888765 is invalid because the digit 8 appears more than 5 times in a row.\n",
    "   \n",
    "__Print the string valid if the phone number is valid. If not, print the string invalid.__"
   ]
  },
  {
   "cell_type": "code",
   "execution_count": 21,
   "id": "6aca2953",
   "metadata": {},
   "outputs": [
    {
     "name": "stdout",
     "output_type": "stream",
     "text": [
      "Enter your mobile number: 7856941230\n",
      "Valid\n"
     ]
    }
   ],
   "source": [
    "num = int(input(\"Enter your mobile number: \"))\n",
    "y = str(num)\n",
    "seven_checker_list = list()\n",
    "\n",
    "for char in y :\n",
    "#(\"10 numbers , starts with valid and do no have 7 time repeat\")\n",
    "    if(y.count(char) > 7) :\n",
    "        seven_checker_list.append(char)\n",
    "\n",
    "\n",
    "def phone_number(x):\n",
    "    for i in range(10):\n",
    "        if str(i) * 6 in str(x):\n",
    "            #print(i, \"occurs more than 5 times\")\n",
    "            return False\n",
    "    return True\n",
    "\n",
    "\n",
    "if (len(y)==10):\n",
    "\n",
    "    if (y[0]== \"6\" or y[0]== \"7\" or y[0]== \"8\" or y[0] == \"9\"):\n",
    "    \n",
    "        if (len(seven_checker_list)==0):\n",
    "        \n",
    "            if ( phone_number(num) == True ):\n",
    "            \n",
    "                print(\"Valid\")\n",
    "        \n",
    "            else:\n",
    "                print(\"Invalid\")\n",
    "        \n",
    "        else:\n",
    "            print(\"Invalid\")\n",
    "    \n",
    "    else:\n",
    "        print(\"Invalid\")   \n",
    "else:\n",
    "    print(\"Invalid\")"
   ]
  },
  {
   "cell_type": "markdown",
   "id": "5b5b3a19",
   "metadata": {},
   "source": [
    "__22. In the first line of input, accept a sequence of space-separated words. In the second line of input, accept a single word. If this word is not present in the sequence, print NO. If this word is present in the sequence, then print YES and in the next line of the output, print the number of times the word appears in the sequence.__"
   ]
  },
  {
   "cell_type": "code",
   "execution_count": 22,
   "id": "396479e9",
   "metadata": {},
   "outputs": [
    {
     "name": "stdout",
     "output_type": "stream",
     "text": [
      "Enter something: I am Indian\n",
      "Enter a word: Indian\n",
      "Yes\n"
     ]
    }
   ],
   "source": [
    "string=input(\"Enter something: \") \n",
    "word=input(\"Enter a word: \")\n",
    " \n",
    "# splitting words in a given string\n",
    "s = string.split()\n",
    " \n",
    "# checking condition\n",
    "# if substring is present in the given string then it gives output as yes\n",
    "if word in s:\n",
    "    print(\"Yes\")\n",
    "else:\n",
    "    print(\"No\")\n"
   ]
  },
  {
   "cell_type": "markdown",
   "id": "f6468c5d",
   "metadata": {},
   "source": [
    "__23. Write a function named factorial that accepts an integer n as argument. It should return the factorial of n if n is a positive integer. It should return -1 if n is a negative integer, and it should return 1 if n is zero.__"
   ]
  },
  {
   "cell_type": "code",
   "execution_count": 23,
   "id": "b99fe279",
   "metadata": {},
   "outputs": [
    {
     "name": "stdout",
     "output_type": "stream",
     "text": [
      "Enter a num: 5\n",
      "Factorial of 5 is: 120\n"
     ]
    }
   ],
   "source": [
    "def factorial(n):\n",
    "    if n == 0:\n",
    "        return 1\n",
    "    elif n < 0:\n",
    "        return -1\n",
    "    else:\n",
    "        return n * factorial(n-1)\n",
    "    \n",
    "num=int(input(\"Enter a num: \"))\n",
    "\n",
    "print(\"Factorial of\",num,\"is:\",factorial(num))"
   ]
  },
  {
   "cell_type": "markdown",
   "id": "bb4eff04",
   "metadata": {},
   "source": [
    "__24. The range of a list of numbers is the difference between the maximum and minimum values in the list. Write a function named get_range that accepts a non-empty list of real numbers as argument. It should return the range of the list.__\n",
    "* Avoid using built-in function such as max and min.\n",
    "* You do not have to accept input from the user or print output to the console. You just have to write the function\n",
    "  definition."
   ]
  },
  {
   "cell_type": "code",
   "execution_count": 24,
   "id": "6576ae0a",
   "metadata": {},
   "outputs": [
    {
     "name": "stdout",
     "output_type": "stream",
     "text": [
      "9\n",
      "4.2\n"
     ]
    }
   ],
   "source": [
    "def get_range(list):\n",
    "    big = -10000000\n",
    "    small = 10000000\n",
    "    for i in list:\n",
    "        if i>big:\n",
    "            big = i\n",
    "        if i<small:\n",
    "            small = i\n",
    "    return big-small\n",
    "\n",
    "\n",
    "print(get_range([10, 4, 1, 8, 7, 9, 6]))\n",
    "print(get_range([1.3, 2.1, 5.5, 1.7]))"
   ]
  },
  {
   "cell_type": "markdown",
   "id": "07fd4acd",
   "metadata": {},
   "source": [
    "__25. Write a function named read_file that accepts a text file named filename as argument. Within the function, read the file and print each line of the file on a separate line in the console. You shouldn't print any extra characters at the end of a line. There shouldn't be an empty line between any two consecutive lines.__\n",
    "* filename is a string variable that holds the name of the file. For example, in the first test case, it is filename = 'public_1.txt'.\n",
    "* You do not have to accept input from the console. You have to write the function definition and print the contents of the file within the function"
   ]
  },
  {
   "cell_type": "code",
   "execution_count": 25,
   "id": "4a191592",
   "metadata": {},
   "outputs": [
    {
     "name": "stdout",
     "output_type": "stream",
     "text": [
      "Mahendra Singh Dhoni is an Indian former international cricketer who was captain of the Indian national cricket team in limited-overs formats from 2007 to 2017 and in Test cricket from 2008 to 2014 and the current captain of CSK.\n",
      "He led India to victory in three ICC trophies, the most by any Indian captain. Dhoni made his ODI debut on 23 December 2004, against Bangladesh in Chittagong and played his first Test a year later against Sri Lanka. He played his first T20I also a year later against South Africa. In 2007, he took over the ODI captaincy from Rahul Dravid and he also selected as T20I captain of India in this year. In 2008, he was selected as Test Captain.His captaincy record in test format was mixed, successfully leading India to a series win against New Zealand in 2008 and the Border-Gavaskar Trophy (home series in 2010 and 2013) against Australia while losing to Sri Lanka, Australia, England, and South Africa by big margins in away conditions.\n"
     ]
    }
   ],
   "source": [
    "def read_file(filename):\n",
    "    f = open(\"D:/iNeuron-Data-Science-Assignment/Class_Code/test.txt\", \"r\")\n",
    "    for line in f:\n",
    "        line = line.rstrip()\n",
    "        print(line, end='\\n')\n",
    "    \n",
    "read_file('test.txt')"
   ]
  },
  {
   "cell_type": "markdown",
   "id": "fe14fe1b",
   "metadata": {},
   "source": [
    "__26. A simple algorithm has to be designed to find out whether a student belongs to the Data Science branch or not. The input will be a student's roll number, which is of the form BR18B0000. Here, BR represents the branch code, 18 represents the year of joining, B represents the education level and 0000 represents the specific identification given to the student of that batch.The branch code for Data Science is DS. Print True if the student belongs to Data Science branch and False otherwise.__"
   ]
  },
  {
   "cell_type": "code",
   "execution_count": 26,
   "id": "82b21196",
   "metadata": {},
   "outputs": [
    {
     "name": "stdout",
     "output_type": "stream",
     "text": [
      "Enter the Student Roll Number:DS45GB445\n",
      "True\n"
     ]
    }
   ],
   "source": [
    "roll_number=input(\"Enter the Student Roll Number:\")\n",
    "if roll_number[0:2]=='DS':\n",
    "    print('True')\n",
    "else:\n",
    "    print('False')"
   ]
  },
  {
   "cell_type": "markdown",
   "id": "ab2e8ed3",
   "metadata": {},
   "source": [
    "__27.The police are trying to track a criminal based on the evidence available at a crime site. Their main clue is a vehicle's damaged number plate. Only the string TN07 is visible. The format of the registration number is AA00AA00, where the first two letters are alphabets, next two are numbers, next two are again alphabets followed by two numbers at the end. A number plate is picked from a database of registration numbers and is given to you as input. Your task is to determine if this could belong to the criminal or not. Print True if the number plate contains TN07 and False otherwise.__"
   ]
  },
  {
   "cell_type": "code",
   "execution_count": 27,
   "id": "48cfa8d3",
   "metadata": {},
   "outputs": [
    {
     "name": "stdout",
     "output_type": "stream",
     "text": [
      "Enter the Vehicle Registration Number:TN07455GB\n",
      "Criminal People\n"
     ]
    }
   ],
   "source": [
    "reg_number=input(\"Enter the Vehicle Registration Number:\")\n",
    "if reg_number !=8:\n",
    "    if reg_number[0:4]=='TN07':\n",
    "        print(\"Criminal People\")\n",
    "    else:\n",
    "        print(\"Good People\")"
   ]
  },
  {
   "cell_type": "markdown",
   "id": "2d5386bd",
   "metadata": {},
   "source": [
    "__28. You are given a string and two non-negative integers as input. The two integers specify the start and end indices of a substring in the given string. Create a new string by replicating the substring a minimum number of times so that the resulting string is longer than the input string. The input parameters are the string, start index of the substring and the end index of substring (endpoints inclusive) each on a different line.__"
   ]
  },
  {
   "cell_type": "code",
   "execution_count": 28,
   "id": "4746aabd",
   "metadata": {},
   "outputs": [
    {
     "name": "stdout",
     "output_type": "stream",
     "text": [
      "abcdef\n",
      "2\n",
      "4\n",
      "cdecdecde\n"
     ]
    }
   ],
   "source": [
    "def str_repeat(input_str, start, end):\n",
    "    result = \"\"\n",
    "    substr = input_str[start : end + 1]\n",
    "    while len(result) <= len(input_str):\n",
    "        result += substr\n",
    "    return result\n",
    "\n",
    "input_str = input()\n",
    "start = int(input())\n",
    "end = int(input())\n",
    "\n",
    "print(str_repeat(input_str, start, end))"
   ]
  },
  {
   "cell_type": "markdown",
   "id": "64d3c4bd",
   "metadata": {},
   "source": [
    "__29. A class teacher has decided to split her entire class into four groups, namely Sapphire, Peridot, Ruby, and Emerald for sports competitions. For dividing the students into these four groups, she has followed the pattern given below:__\n",
    "\n",
    "    Sapphire - 1, 5, 9, 13, 17, 21, ...\n",
    "    Peridot - 2, 6, 10, 14, 18, 22, ...\n",
    "    Ruby - 3, 7, 11, 15, 19, 23, ...\n",
    "    Emerald - 4, 8, 12, 16, 20, 24, ...\n",
    "\n",
    "__All the students are represented by their roll numbers. Based on the above pattern, given the roll \n",
    "number as input, print the group the student belongs to. Note that the roll number can be any \n",
    "positive integer and not necessarily less than 25.__"
   ]
  },
  {
   "cell_type": "code",
   "execution_count": 29,
   "id": "068d120e",
   "metadata": {},
   "outputs": [
    {
     "name": "stdout",
     "output_type": "stream",
     "text": [
      "Enter the roll number: 54\n",
      "Peridot\n"
     ]
    }
   ],
   "source": [
    "def group(rollno):\n",
    "    if rollno % 4 == 0:\n",
    "        return \"Emerald\"\n",
    "    elif rollno % 4 == 1:\n",
    "        return \"Sapphire\"\n",
    "    elif rollno % 4 == 2:\n",
    "        return \"Peridot\"\n",
    "    else:\n",
    "        return \"Ruby\"\n",
    "\n",
    "\n",
    "rollno = int(input(\"Enter the roll number: \"))\n",
    "print(group(rollno))"
   ]
  },
  {
   "cell_type": "markdown",
   "id": "df53c651",
   "metadata": {},
   "source": [
    "__30. A data science company wants to hire data scientists from abc college. The company follows a certain criteria for selection: for a student to be selected, the number of backlogs should be at most 5 and the CGPA (Cumulative Grade Point Average) should be greater than 6. If the student does not fit the above criteria, then the student is not offered the job. If the student is selected, then the salary offered is equal to 5 times his/her CGPA (in lakhs).Accept the number of backlogs (integer) and the CGPA (float) of the student as input. Your task is to determine if the student is selected or not. If the student is selected, then print the package. If not, then print the string Not Selected.__"
   ]
  },
  {
   "cell_type": "code",
   "execution_count": 30,
   "id": "acb9758f",
   "metadata": {},
   "outputs": [
    {
     "name": "stdout",
     "output_type": "stream",
     "text": [
      "Enter the no of backlog: 5\n",
      "Enter your CGPA: 9.23\n",
      "Selected\n",
      "The selected student salary is Rs.4615000.00\n"
     ]
    }
   ],
   "source": [
    "def selection_criteria(backlog,CGPA):\n",
    "    if backlog <= 5 and CGPA > 6:\n",
    "        salary = (CGPA*5) * 100000\n",
    "        print(\"Selected\")\n",
    "        print(f\"The selected student salary is Rs.{salary:.2f}\")\n",
    "    else:\n",
    "        print(\"The Student is not selected\")\n",
    "Backlog = int(input(\"Enter the no of backlog: \"))\n",
    "CGPA = float(input(\"Enter your CGPA: \"))\n",
    "\n",
    "selection_criteria(Backlog,CGPA)"
   ]
  },
  {
   "cell_type": "markdown",
   "id": "fd7f2b8b",
   "metadata": {},
   "source": [
    "__31. Accept a string as input and print PALINDROME if it is a palindrome, and NOT PALINDROME otherwise__"
   ]
  },
  {
   "cell_type": "code",
   "execution_count": 31,
   "id": "0a5ad62d",
   "metadata": {},
   "outputs": [
    {
     "name": "stdout",
     "output_type": "stream",
     "text": [
      "Enter a letter:aba\n",
      "The letter is a palindrome\n"
     ]
    }
   ],
   "source": [
    "string=input((\"Enter a letter:\"))  \n",
    "if(string==string[::-1]):  \n",
    "      print(\"The letter is a palindrome\")  \n",
    "else:  \n",
    "      print(\"The letter is not a palindrome\")  "
   ]
  },
  {
   "cell_type": "markdown",
   "id": "fcb4da5d",
   "metadata": {},
   "source": [
    "__32. In a portal login website, you are asked to write a function get_password_strength to decide \n",
    "the strength of a password. The strength is decided based on the total score of the password, Use \n",
    "following conditions:__\n",
    "1. If password has length greater than 7 then score increases by one point.\n",
    "2. If password has at least one upper case and one lower case alphabets score increases by one point.\n",
    "3. If password has at least one number and no consecutive numbers like 12 or 234 then score increases by one point.\n",
    "4. If password has at least one special character (any character other than numbers and alphabets) then score increases by one point.\n",
    "5. If password contains username, then it is invalid password.\n",
    "\n",
    "__If the password has score of four points, three points, two points, or one point then print Very \n",
    "Strong, Strong, Moderate, or Weak respectively. If the password is invalid, then \n",
    "print PASSWORD SHOULD NOT CONTAIN USERNAME and If the score is zero, then print Use a \n",
    "different password.The arguments to the function are username and password which are \n",
    "already defined__"
   ]
  },
  {
   "cell_type": "code",
   "execution_count": 32,
   "id": "d04d4aa7",
   "metadata": {},
   "outputs": [
    {
     "name": "stdout",
     "output_type": "stream",
     "text": [
      "Enter the Username: Dhoni@12gg\n",
      "Enter the password: Dhoni@#168\n",
      "Strong\n"
     ]
    }
   ],
   "source": [
    "import re\n",
    "\n",
    "def get_password_strength(username, password):\n",
    "    score = 0\n",
    "    if len(password) > 7:\n",
    "        score += 1\n",
    "    if any(map(str.islower, password)) and any(map(str.isupper, password)):\n",
    "        score += 1\n",
    "    if len(re.findall(r'\\d+', password)) > 0 and not any(map(str.isnumeric, password)):\n",
    "        score += 1\n",
    "    if len(re.findall('[^a-zA-Z0-9]', password)) > 0:\n",
    "        score += 1\n",
    "    if username in password:\n",
    "        print(\"PASSWORD SHOULD NOT CONTAIN USERNAME\")\n",
    "    else:\n",
    "        if score == 4:\n",
    "            print(\"Very Strong\")\n",
    "        elif score == 3:\n",
    "            print(\"Strong\")\n",
    "        elif score == 2:\n",
    "            print(\"Moderate\")\n",
    "        elif score == 1:\n",
    "            print(\"Weak\")\n",
    "        else:\n",
    "            print(\"Use a different password.\")\n",
    "\n",
    "username = input(\"Enter the Username: \")\n",
    "password = input(\"Enter the password: \")\n",
    "get_password_strength(username, password)"
   ]
  },
  {
   "cell_type": "markdown",
   "id": "955c60d1",
   "metadata": {},
   "source": [
    "__33.What are decorators in Python?__"
   ]
  },
  {
   "cell_type": "markdown",
   "id": "795f8c4e",
   "metadata": {},
   "source": [
    "A decorator is a design pattern in Python that allows a user to add new functionality to an existing object without modifying its structure. Decorators are usually called before the definition of a function you want to decorate."
   ]
  },
  {
   "cell_type": "markdown",
   "id": "ce9b5c6a",
   "metadata": {},
   "source": [
    "__34. Decorator that logs the date and time.__"
   ]
  },
  {
   "cell_type": "code",
   "execution_count": 33,
   "id": "ab87eb31",
   "metadata": {},
   "outputs": [
    {
     "name": "stdout",
     "output_type": "stream",
     "text": [
      "Function 'long_time' executed in 0.3310s\n"
     ]
    }
   ],
   "source": [
    "from time import time\n",
    "\n",
    "\n",
    "def timer_func(func):\n",
    "    def wrap_func(*args, **kwargs):\n",
    "        t1 = time()\n",
    "        result = func(*args, **kwargs)\n",
    "        t2 = time()\n",
    "        print(f'Function {func.__name__!r} executed in {(t2-t1):.4f}s')\n",
    "        return result\n",
    "    return wrap_func\n",
    "\n",
    "\n",
    "@timer_func\n",
    "def long_time(n):\n",
    "    for i in range(n):\n",
    "        for j in range(1060000):\n",
    "            i*j\n",
    "\n",
    "long_time(5)"
   ]
  },
  {
   "cell_type": "markdown",
   "id": "bb27930b",
   "metadata": {},
   "source": [
    "__35.Program to Get Data Items From a List Appearing Odd Number of Times__"
   ]
  },
  {
   "cell_type": "code",
   "execution_count": 34,
   "id": "00ebaa52",
   "metadata": {},
   "outputs": [
    {
     "name": "stdout",
     "output_type": "stream",
     "text": [
      "5\n",
      "1\n",
      "0\n"
     ]
    }
   ],
   "source": [
    "def get_odd_occurrence(arr): \n",
    "    result = 0\n",
    "  \n",
    "    for i in range(0, len(arr)): \n",
    "        result = result ^ arr[i] \n",
    "      \n",
    "    return result \n",
    "  \n",
    "arr = [ 2, 3, 5, 4, 5, 2, 4, 3, 5, 2, 4, 4, 2 ] \n",
    "print(get_odd_occurrence(arr)) \n",
    "  \n",
    "arr = [ 3, 3, 3, 3, 1, 3, 3, 3, 3, 3, 3, 3, 3 ] \n",
    "print(get_odd_occurrence(arr)) \n",
    "  \n",
    "arr = [ 8, 8, 8, 8, 8, 8, 8, 8 ] \n",
    "print(get_odd_occurrence(arr))"
   ]
  },
  {
   "cell_type": "markdown",
   "id": "2c59477a",
   "metadata": {},
   "source": [
    "__36. Remove items from a list while iterating but without creating a different copy of a list.__\n",
    "\n",
    "Remove numbers greater than 50\n",
    "- number_list = [10, 20, 30, 40, 50, 60, 70, 80, 90, 100]\n",
    "- Expected Output: [10, 20, 30, 40, 50]"
   ]
  },
  {
   "cell_type": "code",
   "execution_count": 35,
   "id": "b59da8a9",
   "metadata": {},
   "outputs": [
    {
     "name": "stdout",
     "output_type": "stream",
     "text": [
      "[10, 20, 30, 40, 50]\n"
     ]
    }
   ],
   "source": [
    "number_list = [10, 20, 30, 40, 50, 60, 70, 80, 90, 100]\n",
    "\n",
    "for elem in list(number_list):\n",
    "    if elem > 50:\n",
    "        number_list.remove(elem)\n",
    "print(number_list)"
   ]
  },
  {
   "cell_type": "markdown",
   "id": "41c2e10f",
   "metadata": {},
   "source": [
    "__37.  Display all duplicate items from a list__\n",
    "\n",
    "sample_list = [10, 20, 60, 30, 20, 40, 30, 60, 70, 80]\n",
    "\n",
    "Expected Output: [20, 60, 30]"
   ]
  },
  {
   "cell_type": "code",
   "execution_count": 36,
   "id": "5fa4b783",
   "metadata": {},
   "outputs": [
    {
     "name": "stdout",
     "output_type": "stream",
     "text": [
      "The Original List: [10, 20, 60, 30, 20, 40, 30, 60, 70, 80]\n",
      "The Duplicated List: [20, 30, 60]\n"
     ]
    }
   ],
   "source": [
    "sample_list = [10, 20, 60, 30, 20, 40, 30, 60, 70, 80]\n",
    "print(\"The Original List:\", sample_list)\n",
    "\n",
    "unique_list = []\n",
    "duplicate_list = []\n",
    "\n",
    "for i in sample_list:\n",
    "    if i not in unique_list:\n",
    "        unique_list.append(i)\n",
    "    elif i not in duplicate_list:\n",
    "        duplicate_list.append(i)\n",
    "\n",
    "print(\"The Duplicated List:\", duplicate_list)"
   ]
  },
  {
   "cell_type": "markdown",
   "id": "202c70c8",
   "metadata": {},
   "source": [
    "__38. Create an outer function that will accept two strings, x and y. (x= 'Emma' and y = 'Kelly'. Create an inner function inside an outer function that will concatenate x and y. At last, an outer function will join the word 'developer' to it.__"
   ]
  },
  {
   "cell_type": "code",
   "execution_count": 37,
   "id": "f4b2c994",
   "metadata": {},
   "outputs": [
    {
     "name": "stdout",
     "output_type": "stream",
     "text": [
      "EmmaKellyDevelopers\n"
     ]
    }
   ],
   "source": [
    "def outer_func(x, y):\n",
    "    # concatenate two strings\n",
    "    def inner_fun(x, y):\n",
    "        return x + y\n",
    "\n",
    "    z = inner_fun(x, y)\n",
    "    return z + 'Developers'\n",
    "\n",
    "result = outer_func('Emma', 'Kelly')\n",
    "print(result)"
   ]
  },
  {
   "cell_type": "markdown",
   "id": "564760b5",
   "metadata": {},
   "source": [
    "__39. Modify the element of a nested list inside the following list. Change the element 35 to 3500__\n",
    "\n",
    "list1 = [5, [10, 15, [20, 25, [30, 35], 40], 45], 50]"
   ]
  },
  {
   "cell_type": "code",
   "execution_count": 38,
   "id": "e5b624a0",
   "metadata": {},
   "outputs": [
    {
     "name": "stdout",
     "output_type": "stream",
     "text": [
      "[5, [10, 15, [20, 25, [30, 3500], 40], 45], 50]\n"
     ]
    }
   ],
   "source": [
    "list1 = [5, [10, 15, [20, 25, [30, 35], 40], 45], 50]\n",
    "list1[1][2][2][1] = 3500\n",
    "print(list1)"
   ]
  },
  {
   "cell_type": "markdown",
   "id": "5175812c",
   "metadata": {},
   "source": [
    "__40.  Access the nested key increment from the following dictionary__\n",
    "\n",
    "Access 12\n",
    "\n",
    "emp_dict = {\n",
    "    \"company\": {\n",
    "        \"employee\": {\n",
    "            \"name\": \"Jess\",\n",
    "            \"payable\": {\n",
    "                \"salary\": 9000,\n",
    "                \"increment\": 12\n",
    "            }\n",
    "        }\n",
    "    }\n",
    "}"
   ]
  },
  {
   "cell_type": "code",
   "execution_count": 39,
   "id": "1741d01b",
   "metadata": {},
   "outputs": [
    {
     "name": "stdout",
     "output_type": "stream",
     "text": [
      "12\n"
     ]
    }
   ],
   "source": [
    "emp_dict = { \"company\": { \"employee\": { \"name\": \"Jess\", \"payable\": { \"salary\": 9000, \"increment\": 12 } } } }\n",
    "print(emp_dict['company']['employee']['payable']['increment'])"
   ]
  },
  {
   "cell_type": "markdown",
   "id": "b536d1e7",
   "metadata": {},
   "source": [
    "__41. Print the sum of the current number and the previous number. Write a program to iterate the first 10 numbers and in each iteration, print the sum of the current and previous number.__\n",
    "\n",
    "Printing current and previous number sum in a range(10)\n",
    "\n",
    "- Current Number 0 Previous Number  0  Sum:  0\n",
    "- Current Number 1 Previous Number  0  Sum:  1\n",
    "- Current Number 2 Previous Number  1  Sum:  3\n",
    "- Current Number 3 Previous Number  2  Sum:  5\n",
    "- Current Number 4 Previous Number  3  Sum:  7\n",
    "- Current Number 5 Previous Number  4  Sum:  9\n",
    "- Current Number 6 Previous Number  5  Sum:  11\n",
    "- Current Number 7 Previous Number  6  Sum:  13\n",
    "- Current Number 8 Previous Number  7  Sum:  15\n",
    "- Current Number 9 Previous Number  8  Sum:  17"
   ]
  },
  {
   "cell_type": "code",
   "execution_count": 40,
   "id": "2e944792",
   "metadata": {},
   "outputs": [
    {
     "name": "stdout",
     "output_type": "stream",
     "text": [
      "Current Number 0 Previous Number 0 is 0\n",
      "Current Number 1 Previous Number 0 is 1\n",
      "Current Number 2 Previous Number 1 is 3\n",
      "Current Number 3 Previous Number 2 is 5\n",
      "Current Number 4 Previous Number 3 is 7\n",
      "Current Number 5 Previous Number 4 is 9\n",
      "Current Number 6 Previous Number 5 is 11\n",
      "Current Number 7 Previous Number 6 is 13\n",
      "Current Number 8 Previous Number 7 is 15\n",
      "Current Number 9 Previous Number 8 is 17\n"
     ]
    }
   ],
   "source": [
    "num = list(range(10))\n",
    "previousNum = 0\n",
    "for i in num:\n",
    "    sum = previousNum + i\n",
    "    print('Current Number '+ str(i) + ' Previous Number ' + str(previousNum) + ' is ' + str(sum))\n",
    "    previousNum=i"
   ]
  },
  {
   "cell_type": "markdown",
   "id": "ee075946",
   "metadata": {},
   "source": [
    "__42. Print characters from a string that are present at an even index number. Write a program to accept a string from the user and display characters that are present at an even index number.__\n",
    "\n",
    "__For example, str = \"ineuron\" so you should display ‘i’, ‘e’, ‘r’, ‘n’.__"
   ]
  },
  {
   "cell_type": "code",
   "execution_count": 41,
   "id": "99e03abc",
   "metadata": {},
   "outputs": [
    {
     "name": "stdout",
     "output_type": "stream",
     "text": [
      "Enter word: ineuron\n",
      "Even characters: ['i', 'e', 'r', 'n']\n"
     ]
    }
   ],
   "source": [
    "word = input('Enter word: ')\n",
    "even_chars = []\n",
    "for i in range(len(word)):\n",
    "    if i % 2 == 0:\n",
    "        even_chars.append(word[i])\n",
    "print('Even characters: {}'.format(even_chars))"
   ]
  },
  {
   "cell_type": "markdown",
   "id": "4857b3b3",
   "metadata": {},
   "source": [
    "__43. Print multiplication table form 1 to 10.__\n",
    "\n",
    "   1  2 3 4 5 6 7 8 9 10 \t\t\n",
    "   2  4 6 8 10 12 14 16 18 20 \t\t\n",
    "   3  6 9 12 15 18 21 24 27 30 \t\t\n",
    "   4  8 12 16 20 24 28 32 36 40 \t\t\n",
    "   5  10 15 20 25 30 35 40 45 50 \t\t\n",
    "   6  12 18 24 30 36 42 48 54 60 \t\t\n",
    "   7  14 21 28 35 42 49 56 63 70 \t\t\n",
    "   8  16 24 32 40 48 56 64 72 80 \t\t\n",
    "   9  18 27 36 45 54 63 72 81 90 \t\n",
    "   10 20 30 40 50 60 70 80 90 100"
   ]
  },
  {
   "cell_type": "code",
   "execution_count": 42,
   "id": "381e7732",
   "metadata": {},
   "outputs": [
    {
     "name": "stdout",
     "output_type": "stream",
     "text": [
      "Please enter a positive integer between 1 and 10: 10\n",
      "  1   2   3   4   5   6   7   8   9  10\n",
      "  2   4   6   8  10  12  14  16  18  20\n",
      "  3   6   9  12  15  18  21  24  27  30\n",
      "  4   8  12  16  20  24  28  32  36  40\n",
      "  5  10  15  20  25  30  35  40  45  50\n",
      "  6  12  18  24  30  36  42  48  54  60\n",
      "  7  14  21  28  35  42  49  56  63  70\n",
      "  8  16  24  32  40  48  56  64  72  80\n",
      "  9  18  27  36  45  54  63  72  81  90\n",
      " 10  20  30  40  50  60  70  80  90 100\n"
     ]
    }
   ],
   "source": [
    "n=int(input('Please enter a positive integer between 1 and 10: ')) #if you want table upto 25 the replace 10 with 25 and give input as 25\n",
    "for row in range(1, n + 1):\n",
    "    print(*(f\"{row*col:3}\" for col in range(1, n + 1)))"
   ]
  },
  {
   "cell_type": "markdown",
   "id": "268197d6",
   "metadata": {},
   "source": [
    "__44. Remove duplicates from a list and create a tuple and find the minimum and maximum number__\n",
    "\n",
    "* sample_list = [87, 45, 41, 65, 94, 41, 99, 94]\n",
    "\n",
    "__Expected Outcome:__\n",
    "* unique items [87, 45, 41, 65, 99]\n",
    "* tuple (87, 45, 41, 65, 99)\n",
    "    * min: 41\n",
    "    * max: 99"
   ]
  },
  {
   "cell_type": "code",
   "execution_count": 43,
   "id": "8d5c5ad5",
   "metadata": {},
   "outputs": [
    {
     "name": "stdout",
     "output_type": "stream",
     "text": [
      "Original List:  [1, 2, 4, 2, 1, 4, 5]\n",
      "List after removing duplicate elements:  [1, 2, 4, 5]\n",
      "Converting List to Tuple (1, 2, 4, 5)\n",
      "Max Number:  5\n",
      "Min Number:  1\n"
     ]
    }
   ],
   "source": [
    "l = [1, 2, 4, 2, 1, 4, 5]\n",
    "print(\"Original List: \", l)\n",
    "res = [*set(l)]\n",
    "print(\"List after removing duplicate elements: \", res)\n",
    "tuple1 = tuple(res)\n",
    "print(\"Converting List to Tuple\",tuple1)\n",
    "print(\"Max Number: \", max(tuple1))\n",
    "print(\"Min Number: \", min(tuple1))"
   ]
  },
  {
   "cell_type": "markdown",
   "id": "533ac7c6",
   "metadata": {},
   "source": [
    "__45. Write a Python program to create a lambda function that adds 15 to a given number passed in as an argument, also create a lambda function that multiplies argument x with argument y and print the result.__"
   ]
  },
  {
   "cell_type": "code",
   "execution_count": 44,
   "id": "2a036443",
   "metadata": {},
   "outputs": [
    {
     "name": "stdout",
     "output_type": "stream",
     "text": [
      "25\n",
      "48\n"
     ]
    }
   ],
   "source": [
    "a = lambda a : a + 15\n",
    "print(a(10))\n",
    "b = lambda x, y : x * y\n",
    "print(b(12, 4))"
   ]
  },
  {
   "cell_type": "markdown",
   "id": "8f9b0192",
   "metadata": {},
   "source": [
    "__46. Write a Python program to sort a list of tuples using Lambda.__"
   ]
  },
  {
   "cell_type": "code",
   "execution_count": 45,
   "id": "1dd2f369",
   "metadata": {},
   "outputs": [
    {
     "name": "stdout",
     "output_type": "stream",
     "text": [
      "Original list of tuples: [('Earth', 3), ('Jupiter', 5), ('Mercury', 1), ('Mars', 4), ('Neptune', 8), ('Saturn', 6), ('Uranus', 7), ('Venus', 2)]\n",
      "\n",
      "Sorting the List of Tuples: [('Mercury', 1), ('Venus', 2), ('Earth', 3), ('Mars', 4), ('Jupiter', 5), ('Saturn', 6), ('Uranus', 7), ('Neptune', 8)]\n"
     ]
    }
   ],
   "source": [
    "planets = [(\"Earth\", 3),(\"Jupiter\",5),(\"Mercury\",1), (\"Mars\",4), (\"Neptune\",8), (\"Saturn\", 6), (\"Uranus\",7), (\"Venus\",2)]\n",
    "print(\"Original list of tuples:\",planets)\n",
    "planets.sort(key = lambda x: x[1])\n",
    "print(\"\\nSorting the List of Tuples:\", planets)"
   ]
  },
  {
   "cell_type": "markdown",
   "id": "af4b6e15",
   "metadata": {},
   "source": [
    "__47. Write a Python program to extract year, month, date and time using Lambda.__"
   ]
  },
  {
   "cell_type": "code",
   "execution_count": 46,
   "id": "5d9d9aa9",
   "metadata": {},
   "outputs": [
    {
     "name": "stdout",
     "output_type": "stream",
     "text": [
      "2022-11-21 23:09:19.047253\n",
      "2022\n",
      "11\n",
      "21\n",
      "23:09:19.047253\n"
     ]
    }
   ],
   "source": [
    "import datetime\n",
    "now = datetime.datetime.now()\n",
    "print(now)\n",
    "year = lambda x: x.year\n",
    "month = lambda x: x.month\n",
    "day = lambda x: x.day\n",
    "t = lambda x: x.time()\n",
    "print(year(now))\n",
    "print(month(now))\n",
    "print(day(now))\n",
    "print(t(now))"
   ]
  },
  {
   "cell_type": "markdown",
   "id": "87e565b2",
   "metadata": {},
   "source": [
    "__48. Write a Python program to count the even, odd numbers in a given array of integers using Lambda.__"
   ]
  },
  {
   "cell_type": "code",
   "execution_count": 47,
   "id": "29dfe1e0",
   "metadata": {},
   "outputs": [
    {
     "name": "stdout",
     "output_type": "stream",
     "text": [
      "Original arrays: [1, 2, 3, 5, 7, 8, 9, 10]\n",
      "\n",
      "Number of even numbers in the above array:  5\n",
      "\n",
      "Number of odd numbers in the above array:  3\n"
     ]
    }
   ],
   "source": [
    "nums = [1, 2, 3, 5, 7, 8, 9, 10]\n",
    "print(\"Original arrays:\", nums)\n",
    "odd_num = len(list(filter(lambda x: (x%2 != 0) , nums)))\n",
    "even_num = len(list(filter(lambda x: (x%2 == 0) , nums)))\n",
    "print(\"\\nNumber of even numbers in the above array: \", odd_num)\n",
    "print(\"\\nNumber of odd numbers in the above array: \", even_num)"
   ]
  },
  {
   "cell_type": "markdown",
   "id": "4fb6ff8f",
   "metadata": {},
   "source": [
    "__49. Write a Python program to convert all the characters in uppercase and lowercase and eliminate duplicate letters from a given sequence. Use map() function.__"
   ]
  },
  {
   "cell_type": "code",
   "execution_count": 48,
   "id": "9ec2bd24",
   "metadata": {},
   "outputs": [
    {
     "name": "stdout",
     "output_type": "stream",
     "text": [
      "Original Characters:\n",
      " {'o', 'E', 'm', 'h', 'a', 'v', 'V', 'r'}\n",
      "\n",
      " Converting above characters in upper and lower cases\n",
      "and eliminating duplicate letters: {('M', 'm'), ('V', 'v'), ('R', 'r'), ('O', 'o'), ('A', 'a'), ('E', 'e'), ('H', 'h')}\n"
     ]
    }
   ],
   "source": [
    "def change_cases(s):\n",
    "    return str(s).upper(), str(s).lower()\n",
    " \n",
    "letters = {'a', 'r', 'E', 'h', 'a', 'm', 'o', 'V', 'a', 'E', 'v'}\n",
    "print(\"Original Characters:\\n\",letters)\n",
    " \n",
    "result = map(change_cases, letters)\n",
    "print(\"\\n Converting above characters in upper and lower cases\\nand eliminating duplicate letters:\", set(result))"
   ]
  },
  {
   "cell_type": "markdown",
   "id": "b7258edc",
   "metadata": {},
   "source": [
    "__50. Write a Python program to square the elements of a list using map() function.__"
   ]
  },
  {
   "cell_type": "code",
   "execution_count": 49,
   "id": "0a7f773f",
   "metadata": {},
   "outputs": [
    {
     "name": "stdout",
     "output_type": "stream",
     "text": [
      "Original List:  [4, 5, 2, 9]\n",
      "Square the elements of the said list using map(): [16, 25, 4, 81]\n"
     ]
    }
   ],
   "source": [
    "def square_num(n):\n",
    "    return n * n\n",
    "\n",
    "nums = [4, 5, 2, 9]\n",
    "print(\"Original List: \",nums)\n",
    "\n",
    "result = map(square_num, nums)\n",
    "\n",
    "print(\"Square the elements of the said list using map():\", list(result))"
   ]
  }
 ],
 "metadata": {
  "kernelspec": {
   "display_name": "Python 3 (ipykernel)",
   "language": "python",
   "name": "python3"
  },
  "language_info": {
   "codemirror_mode": {
    "name": "ipython",
    "version": 3
   },
   "file_extension": ".py",
   "mimetype": "text/x-python",
   "name": "python",
   "nbconvert_exporter": "python",
   "pygments_lexer": "ipython3",
   "version": "3.9.13"
  },
  "vscode": {
   "interpreter": {
    "hash": "f544ce1a915a9875fad91c894e2c0bcad4b7a79945aa6027ef3ad27810072aa6"
   }
  }
 },
 "nbformat": 4,
 "nbformat_minor": 5
}
