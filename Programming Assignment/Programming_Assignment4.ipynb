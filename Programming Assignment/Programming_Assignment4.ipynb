{
 "cells": [
  {
   "cell_type": "markdown",
   "metadata": {},
   "source": [
    "__1. Write a Python Program to Find the Factorial of a Number?__"
   ]
  },
  {
   "cell_type": "code",
   "execution_count": 7,
   "metadata": {},
   "outputs": [
    {
     "data": {
      "text/plain": [
       "5040"
      ]
     },
     "execution_count": 7,
     "metadata": {},
     "output_type": "execute_result"
    }
   ],
   "source": [
    "import math\n",
    "math.factorial(1000)\n",
    "\n",
    "def factorial(n):\n",
    "    fact = 1\n",
    "    for num in range(2, n + 1):\n",
    "        fact *= num\n",
    "    return fact\n",
    "\n",
    "def factorial(n):\n",
    "    if n == 0:\n",
    "        return 1\n",
    "    else:\n",
    "        return n * factorial(n-1)\n",
    "\n",
    "factorial(7)"
   ]
  },
  {
   "cell_type": "markdown",
   "metadata": {},
   "source": [
    "__2. Write a Python Program to Display the multiplication Table?__"
   ]
  },
  {
   "cell_type": "code",
   "execution_count": 14,
   "metadata": {},
   "outputs": [
    {
     "name": "stdout",
     "output_type": "stream",
     "text": [
      "  1   2   3   4   5   6   7   8   9  10  11  12  13  14  15  16  17  18  19  20  21  22  23  24  25\n",
      "  2   4   6   8  10  12  14  16  18  20  22  24  26  28  30  32  34  36  38  40  42  44  46  48  50\n",
      "  3   6   9  12  15  18  21  24  27  30  33  36  39  42  45  48  51  54  57  60  63  66  69  72  75\n",
      "  4   8  12  16  20  24  28  32  36  40  44  48  52  56  60  64  68  72  76  80  84  88  92  96 100\n",
      "  5  10  15  20  25  30  35  40  45  50  55  60  65  70  75  80  85  90  95 100 105 110 115 120 125\n",
      "  6  12  18  24  30  36  42  48  54  60  66  72  78  84  90  96 102 108 114 120 126 132 138 144 150\n",
      "  7  14  21  28  35  42  49  56  63  70  77  84  91  98 105 112 119 126 133 140 147 154 161 168 175\n",
      "  8  16  24  32  40  48  56  64  72  80  88  96 104 112 120 128 136 144 152 160 168 176 184 192 200\n",
      "  9  18  27  36  45  54  63  72  81  90  99 108 117 126 135 144 153 162 171 180 189 198 207 216 225\n",
      " 10  20  30  40  50  60  70  80  90 100 110 120 130 140 150 160 170 180 190 200 210 220 230 240 250\n",
      " 11  22  33  44  55  66  77  88  99 110 121 132 143 154 165 176 187 198 209 220 231 242 253 264 275\n",
      " 12  24  36  48  60  72  84  96 108 120 132 144 156 168 180 192 204 216 228 240 252 264 276 288 300\n",
      " 13  26  39  52  65  78  91 104 117 130 143 156 169 182 195 208 221 234 247 260 273 286 299 312 325\n",
      " 14  28  42  56  70  84  98 112 126 140 154 168 182 196 210 224 238 252 266 280 294 308 322 336 350\n",
      " 15  30  45  60  75  90 105 120 135 150 165 180 195 210 225 240 255 270 285 300 315 330 345 360 375\n",
      " 16  32  48  64  80  96 112 128 144 160 176 192 208 224 240 256 272 288 304 320 336 352 368 384 400\n",
      " 17  34  51  68  85 102 119 136 153 170 187 204 221 238 255 272 289 306 323 340 357 374 391 408 425\n",
      " 18  36  54  72  90 108 126 144 162 180 198 216 234 252 270 288 306 324 342 360 378 396 414 432 450\n",
      " 19  38  57  76  95 114 133 152 171 190 209 228 247 266 285 304 323 342 361 380 399 418 437 456 475\n",
      " 20  40  60  80 100 120 140 160 180 200 220 240 260 280 300 320 340 360 380 400 420 440 460 480 500\n",
      " 21  42  63  84 105 126 147 168 189 210 231 252 273 294 315 336 357 378 399 420 441 462 483 504 525\n",
      " 22  44  66  88 110 132 154 176 198 220 242 264 286 308 330 352 374 396 418 440 462 484 506 528 550\n",
      " 23  46  69  92 115 138 161 184 207 230 253 276 299 322 345 368 391 414 437 460 483 506 529 552 575\n",
      " 24  48  72  96 120 144 168 192 216 240 264 288 312 336 360 384 408 432 456 480 504 528 552 576 600\n",
      " 25  50  75 100 125 150 175 200 225 250 275 300 325 350 375 400 425 450 475 500 525 550 575 600 625\n"
     ]
    }
   ],
   "source": [
    "n=int(input('Please enter a positive integer between 1 and 25: '))\n",
    "for row in range(1, n + 1):\n",
    "    print(*(f\"{row*col:3}\" for col in range(1, n + 1)))\n"
   ]
  },
  {
   "cell_type": "markdown",
   "metadata": {},
   "source": [
    "__3. Write a Python Program to Print the Fibonacci sequence?__"
   ]
  },
  {
   "cell_type": "code",
   "execution_count": 21,
   "metadata": {},
   "outputs": [
    {
     "name": "stdout",
     "output_type": "stream",
     "text": [
      "Fibonacci Series - \n",
      "0 1 1 2 3 5 8 13 21 34 55 89 144 233 377 610 987 "
     ]
    }
   ],
   "source": [
    "def PrintFibonacci(length): \n",
    "    first = 0\n",
    "    second = 1\n",
    "\n",
    "    print(first, second, end=\" \")\n",
    "    length -= 2\n",
    "    \n",
    "    while length > 0:\n",
    "        print(first + second, end=\" \")\n",
    "        temp = second\n",
    "        second = first + second\n",
    "        first = temp\n",
    "        length -= 1\n",
    "\n",
    "if __name__ == \"__main__\":\n",
    "    print(\"Fibonacci Series - \")\n",
    "    PrintFibonacci(17)\n",
    "    pass"
   ]
  },
  {
   "cell_type": "markdown",
   "metadata": {},
   "source": [
    "__4. Write a Python Program to Check Armstrong Number?__"
   ]
  },
  {
   "cell_type": "code",
   "execution_count": 22,
   "metadata": {},
   "outputs": [
    {
     "name": "stdout",
     "output_type": "stream",
     "text": [
      "15 is not an Armstrong number\n"
     ]
    }
   ],
   "source": [
    "num = int(input(\"Enter a number: \"))\n",
    "\n",
    "sum = 0\n",
    "\n",
    "temp = num\n",
    "while temp > 0:\n",
    "   digit = temp % 10\n",
    "   sum += digit ** 3\n",
    "   temp //= 10\n",
    "\n",
    "if num == sum:\n",
    "   print(num,\"is an Armstrong number\")\n",
    "else:\n",
    "   print(num,\"is not an Armstrong number\")"
   ]
  },
  {
   "cell_type": "markdown",
   "metadata": {},
   "source": [
    "__5. Write a Python Program to Find Armstrong Number in an Interval?__"
   ]
  },
  {
   "cell_type": "code",
   "execution_count": 24,
   "metadata": {},
   "outputs": [
    {
     "name": "stdout",
     "output_type": "stream",
     "text": [
      "153\n",
      "370\n",
      "371\n",
      "407\n"
     ]
    }
   ],
   "source": [
    "lower = int(input(\"Enter lower range: \"))\n",
    "upper = int(input(\"Enter upper range: \"))\n",
    " \n",
    "for num in range(lower,upper + 1):\n",
    "   # initialize sum\n",
    "   sum = 0\n",
    " \n",
    "   # find the sum of the cube of each digit\n",
    "   temp = num\n",
    "   while temp > 0:\n",
    "       digit = temp % 10\n",
    "       sum += digit ** 3\n",
    "       temp //= 10\n",
    " \n",
    "   if num == sum:\n",
    "       print(num)"
   ]
  },
  {
   "cell_type": "markdown",
   "metadata": {},
   "source": [
    "__6. Write a Python Program to Find the Sum of Natural Numbers?__"
   ]
  },
  {
   "cell_type": "code",
   "execution_count": 26,
   "metadata": {},
   "outputs": [
    {
     "name": "stdout",
     "output_type": "stream",
     "text": [
      "The sum is 55\n"
     ]
    }
   ],
   "source": [
    "num = int(input(\"Enter the num: \"))\n",
    "\n",
    "if num < 0:\n",
    "   print(\"Enter a positive number\")\n",
    "else:\n",
    "   sum = 0\n",
    "   # use while loop to iterate until zero\n",
    "   while(num > 0):\n",
    "       sum += num\n",
    "       num -= 1\n",
    "   print(\"The sum is\", sum)"
   ]
  },
  {
   "cell_type": "markdown",
   "metadata": {},
   "source": []
  }
 ],
 "metadata": {
  "kernelspec": {
   "display_name": "Python 3.8.0 64-bit",
   "language": "python",
   "name": "python3"
  },
  "language_info": {
   "codemirror_mode": {
    "name": "ipython",
    "version": 3
   },
   "file_extension": ".py",
   "mimetype": "text/x-python",
   "name": "python",
   "nbconvert_exporter": "python",
   "pygments_lexer": "ipython3",
   "version": "3.8.0"
  },
  "orig_nbformat": 4,
  "vscode": {
   "interpreter": {
    "hash": "f544ce1a915a9875fad91c894e2c0bcad4b7a79945aa6027ef3ad27810072aa6"
   }
  }
 },
 "nbformat": 4,
 "nbformat_minor": 2
}
