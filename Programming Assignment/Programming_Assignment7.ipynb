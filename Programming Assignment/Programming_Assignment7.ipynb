{
 "cells": [
  {
   "attachments": {},
   "cell_type": "markdown",
   "metadata": {},
   "source": [
    "__1. Write a Python Program to find sum of array?__"
   ]
  },
  {
   "cell_type": "code",
   "execution_count": 1,
   "metadata": {},
   "outputs": [
    {
     "name": "stdout",
     "output_type": "stream",
     "text": [
      "45\n"
     ]
    }
   ],
   "source": [
    "a = range(10)\n",
    "# [0,1,2,3,4,5,6,7,8,9]\n",
    "b = sum(a)\n",
    "print(b)"
   ]
  },
  {
   "attachments": {},
   "cell_type": "markdown",
   "metadata": {},
   "source": [
    "__2. Write a Python Program to find largest element in an array?__"
   ]
  },
  {
   "cell_type": "code",
   "execution_count": 6,
   "metadata": {},
   "outputs": [
    {
     "name": "stdout",
     "output_type": "stream",
     "text": [
      "Largest in given array  9808\n"
     ]
    }
   ],
   "source": [
    "def largest(arr, n):\n",
    "\n",
    "\t# Initialize maximum element\n",
    "\tmax = arr[0]\n",
    "\n",
    "\t# Traverse array elements from second\n",
    "\t# and compare every element with\n",
    "\t# current max\n",
    "\tfor i in range(1, n):\n",
    "\t\tif arr[i] > max:\n",
    "\t\t\tmax = arr[i]\n",
    "\treturn max\n",
    "\n",
    "\n",
    "# Driver Code\n",
    "arr = [10, 324, 45, 90, 9808]\n",
    "n = len(arr)\n",
    "Ans = largest(arr, n)\n",
    "print(\"Largest in given array \", Ans)"
   ]
  },
  {
   "attachments": {},
   "cell_type": "markdown",
   "metadata": {},
   "source": [
    "__3. Write a Python Program for array rotation?__"
   ]
  },
  {
   "cell_type": "code",
   "execution_count": 7,
   "metadata": {},
   "outputs": [
    {
     "name": "stdout",
     "output_type": "stream",
     "text": [
      "Array after left rotation is:  [3, 4, 5, 6, 7, 1, 2]\n"
     ]
    }
   ],
   "source": [
    "def rotateArray(a,d):\n",
    "    temp = []\n",
    "    n=len(a)\n",
    "    for i in range(d,n):\n",
    "        temp.append(a[i])\n",
    "    i = 0\n",
    "    for i in range (0,d):\n",
    "        temp.append(a[i])\n",
    "    a=temp.copy()\n",
    "    return a\n",
    " \n",
    "arr = [1, 2, 3, 4, 5, 6, 7]\n",
    "print(\"Array after left rotation is: \", end=' ')\n",
    "print(rotateArray(arr, 2))"
   ]
  },
  {
   "attachments": {},
   "cell_type": "markdown",
   "metadata": {},
   "source": [
    "__4. Write a Python Program to Split the array and add the first part to the end?__"
   ]
  },
  {
   "cell_type": "code",
   "execution_count": 8,
   "metadata": {},
   "outputs": [
    {
     "name": "stdout",
     "output_type": "stream",
     "text": [
      "5 6 52 36 12 10 "
     ]
    }
   ],
   "source": [
    "def splitArr(arr, n, k):\n",
    "\tfor i in range(0, k):\n",
    "\t\tx = arr[0]\n",
    "\t\tfor j in range(0, n-1):\n",
    "\t\t\tarr[j] = arr[j + 1]\n",
    "\t\t\n",
    "\t\tarr[n-1] = x\n",
    "\t\t\n",
    "\n",
    "# main\n",
    "arr = [12, 10, 5, 6, 52, 36]\n",
    "n = len(arr)\n",
    "position = 2\n",
    "\n",
    "splitArr(arr, n, position)\n",
    "\n",
    "for i in range(0, n):\n",
    "\tprint(arr[i], end = ' ')"
   ]
  },
  {
   "attachments": {},
   "cell_type": "markdown",
   "metadata": {},
   "source": [
    "__5. Write a Python Program to check if given array is Monotonic?__"
   ]
  },
  {
   "cell_type": "code",
   "execution_count": 10,
   "metadata": {},
   "outputs": [
    {
     "name": "stdout",
     "output_type": "stream",
     "text": [
      "True\n"
     ]
    }
   ],
   "source": [
    "def isMonotonic(A):\n",
    "\tx, y = [], []\n",
    "\tx.extend(A)\n",
    "\ty.extend(A)\n",
    "\tx.sort()\n",
    "\ty.sort(reverse=True)\n",
    "\tif(x == A or y == A):\n",
    "\t\treturn True\n",
    "\treturn False\n",
    "\n",
    "A = [6, 4, 4]\n",
    "\n",
    "print(isMonotonic(A))\n"
   ]
  },
  {
   "cell_type": "code",
   "execution_count": null,
   "metadata": {},
   "outputs": [],
   "source": []
  }
 ],
 "metadata": {
  "kernelspec": {
   "display_name": "Python 3",
   "language": "python",
   "name": "python3"
  },
  "language_info": {
   "codemirror_mode": {
    "name": "ipython",
    "version": 3
   },
   "file_extension": ".py",
   "mimetype": "text/x-python",
   "name": "python",
   "nbconvert_exporter": "python",
   "pygments_lexer": "ipython3",
   "version": "3.8.0"
  },
  "orig_nbformat": 4,
  "vscode": {
   "interpreter": {
    "hash": "f544ce1a915a9875fad91c894e2c0bcad4b7a79945aa6027ef3ad27810072aa6"
   }
  }
 },
 "nbformat": 4,
 "nbformat_minor": 2
}
