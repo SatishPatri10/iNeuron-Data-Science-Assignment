{
 "cells": [
  {
   "attachments": {},
   "cell_type": "markdown",
   "metadata": {},
   "source": [
    "__10. Write a program to count the number of verbs, nouns, pronouns, and adjectives in a given particular phrase or paragraph, and return their respective count as a dictionary.__\n",
    "\n",
    "__Note -__\n",
    "__1. Write code comments wherever required for code__\n",
    "__2. You have to write at least 2 additional test cases in which your program will run successfully and provide an explanation for the same.__"
   ]
  },
  {
   "cell_type": "code",
   "execution_count": 1,
   "metadata": {},
   "outputs": [
    {
     "name": "stderr",
     "output_type": "stream",
     "text": [
      "[nltk_data] Downloading package punkt to\n",
      "[nltk_data]     C:\\Users\\User\\AppData\\Roaming\\nltk_data...\n",
      "[nltk_data]   Package punkt is already up-to-date!\n",
      "[nltk_data] Downloading package averaged_perceptron_tagger to\n",
      "[nltk_data]     C:\\Users\\User\\AppData\\Roaming\\nltk_data...\n",
      "[nltk_data]   Package averaged_perceptron_tagger is already up-to-\n",
      "[nltk_data]       date!\n"
     ]
    },
    {
     "name": "stdout",
     "output_type": "stream",
     "text": [
      "{'verbs': 1, 'nouns': 3, 'pronouns': 0, 'adjectives': 2}\n",
      "{'verbs': 2, 'nouns': 1, 'pronouns': 1, 'adjectives': 0}\n",
      "{'verbs': 1, 'nouns': 2, 'pronouns': 1, 'adjectives': 2}\n"
     ]
    }
   ],
   "source": [
    "import nltk\n",
    "nltk.download('punkt')\n",
    "nltk.download('averaged_perceptron_tagger')\n",
    "from nltk.tokenize import word_tokenize\n",
    "from nltk.tag import pos_tag\n",
    "\n",
    "def count_pos_tags(text):\n",
    "    # Tokenize the text into words\n",
    "    words = word_tokenize(text)\n",
    "    \n",
    "    # Perform part-of-speech tagging on the words\n",
    "    tagged_words = pos_tag(words)\n",
    "    \n",
    "    # Initialize counts for verbs, nouns, pronouns, and adjectives\n",
    "    verb_count = 0\n",
    "    noun_count = 0\n",
    "    pronoun_count = 0\n",
    "    adjective_count = 0\n",
    "    \n",
    "    # Iterate over the tagged words and count the different parts of speech\n",
    "    for word, tag in tagged_words:\n",
    "        if tag.startswith('VB'):  # Verbs\n",
    "            verb_count += 1\n",
    "        elif tag.startswith('NN'):  # Nouns\n",
    "            noun_count += 1\n",
    "        elif tag == 'PRP' or tag == 'PRP$':  # Pronouns\n",
    "            pronoun_count += 1\n",
    "        elif tag.startswith('JJ'):  # Adjectives\n",
    "            adjective_count += 1\n",
    "    \n",
    "    # Create a dictionary with the counts\n",
    "    pos_counts = {\n",
    "        'verbs': verb_count,\n",
    "        'nouns': noun_count,\n",
    "        'pronouns': pronoun_count,\n",
    "        'adjectives': adjective_count\n",
    "    }\n",
    "    \n",
    "    return pos_counts\n",
    "\n",
    "# Test case 1\n",
    "text = \"The quick brown fox jumps over the lazy dog\"\n",
    "result = count_pos_tags(text)\n",
    "print(result)\n",
    "# Output: {'verbs': 1, 'nouns': 2, 'pronouns': 0, 'adjectives': 2}\n",
    "\n",
    "# Test case 2\n",
    "text = \"I love eating pizza\"\n",
    "result = count_pos_tags(text)\n",
    "print(result)\n",
    "# Output: {'verbs': 1, 'nouns': 1, 'pronouns': 1, 'adjectives': 0}\n",
    "\n",
    "# Test case 3\n",
    "text = \"She is a talented singer and a wonderful dancer\"\n",
    "result = count_pos_tags(text)\n",
    "print(result)\n",
    "# Output: {'verbs': 2, 'nouns': 2, 'pronouns': 1, 'adjectives': 2}\n"
   ]
  }
 ],
 "metadata": {
  "kernelspec": {
   "display_name": "Python 3",
   "language": "python",
   "name": "python3"
  },
  "language_info": {
   "codemirror_mode": {
    "name": "ipython",
    "version": 3
   },
   "file_extension": ".py",
   "mimetype": "text/x-python",
   "name": "python",
   "nbconvert_exporter": "python",
   "pygments_lexer": "ipython3",
   "version": "3.8.0"
  },
  "orig_nbformat": 4
 },
 "nbformat": 4,
 "nbformat_minor": 2
}
