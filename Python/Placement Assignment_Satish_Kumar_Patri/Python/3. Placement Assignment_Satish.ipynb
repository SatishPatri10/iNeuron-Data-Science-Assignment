{
 "cells": [
  {
   "cell_type": "markdown",
   "metadata": {},
   "source": [
    "__3. Write a program, which would download the data from the provided link, and then read the data and convert\n",
    "that into properly structured data and return it in Excel format.\n",
    "Note - Write comments wherever necessary explaining the code written.__\n",
    "\n",
    "__Link - https://raw.githubusercontent.com/Biuni/PokemonGO-Pokedex/master/pokedex.json\n",
    "Data Attributes - id: Identification Number - int num: Number of the__\n",
    "* Pokémon in the official Pokédex - int name: Pokémon name -\n",
    "* string img: URL to an image of this Pokémon - string type:\n",
    "* Pokémon type -string height: Pokémon height - float\n",
    "* weight: Pokémon weight - float candy: type of candy used to evolve Pokémon or\n",
    "given\n",
    "* when transferred - string candy_count: the amount of candies required to evolve int\n",
    "* egg: Number of kilometers to travel to hatch the egg - float spawn_chance:\n",
    "* Percentage of spawn chance (NEW) - float avg_spawns: Number of this\n",
    "pokemon on 10.000 spawns (NEW) - int\n",
    "* spawn_time: Spawns most active at the time on this field. Spawn times are the same for all\n",
    "time zones and are expressed in local time. (NEW) - “minutes: seconds” multipliers:\n",
    "Multiplier of Combat Power (CP) for calculating the CP after evolution See below - list of int\n",
    "weakness: Types of\n",
    "* Pokémon this Pokémon is weak to - list of strings next_evolution: Number and Name of\n",
    "successive evolutions of Pokémon - list of dict prev_evolution: Number and Name of previous\n",
    "evolutions of Pokémon - - list of dict"
   ]
  },
  {
   "cell_type": "code",
   "execution_count": 1,
   "metadata": {},
   "outputs": [
    {
     "name": "stdout",
     "output_type": "stream",
     "text": [
      "Data saved as pokemon_data.xlsx\n"
     ]
    }
   ],
   "source": [
    "import pandas as pd\n",
    "import requests\n",
    "\n",
    "# Function to download the data from the given link\n",
    "def download_data(url):\n",
    "    response = requests.get(url)\n",
    "    if response.status_code == 200:\n",
    "        return response.json()\n",
    "    else:\n",
    "        return None\n",
    "\n",
    "# Function to process the downloaded data and convert it to a DataFrame\n",
    "def process_data(data):\n",
    "    pokemon_list = []\n",
    "    for pokemon in data[\"pokemon\"]:\n",
    "        attributes = {\n",
    "            \"id\": pokemon[\"id\"],\n",
    "            \"num\": pokemon[\"num\"],\n",
    "            \"name\": pokemon[\"name\"],\n",
    "            \"img\": pokemon[\"img\"],\n",
    "            \"type\": \", \".join(pokemon[\"type\"]),\n",
    "            \"height\": pokemon[\"height\"],\n",
    "            \"weight\": pokemon[\"weight\"],\n",
    "            \"candy\": pokemon.get(\"candy\", \"\"),\n",
    "            \"candy_count\": pokemon.get(\"candy_count\", \"\"),\n",
    "            \"egg\": pokemon.get(\"egg\", \"\"),\n",
    "            \"spawn_chance\": pokemon.get(\"spawn_chance\", \"\"),\n",
    "            \"avg_spawns\": pokemon.get(\"avg_spawns\", \"\"),\n",
    "            \"spawn_time\": pokemon.get(\"spawn_time\", \"\"),\n",
    "            \"weakness\": \", \".join(pokemon.get(\"weaknesses\", [])),\n",
    "            \"next_evolution\": \", \".join(\n",
    "                [evolution[\"num\"] + \" - \" + evolution[\"name\"] for evolution in pokemon.get(\"next_evolution\", [])]\n",
    "            ),\n",
    "            \"prev_evolution\": \", \".join(\n",
    "                [evolution[\"num\"] + \" - \" + evolution[\"name\"] for evolution in pokemon.get(\"prev_evolution\", [])]\n",
    "            )\n",
    "        }\n",
    "        pokemon_list.append(attributes)\n",
    "\n",
    "    df = pd.DataFrame(pokemon_list)\n",
    "    return df\n",
    "\n",
    "# Function to save the DataFrame as an Excel file\n",
    "def save_as_excel(df, filename):\n",
    "    df.to_excel(filename, index=False)\n",
    "\n",
    "# Main program\n",
    "def main():\n",
    "    url = \"https://raw.githubusercontent.com/Biuni/PokemonGO-Pokedex/master/pokedex.json\"\n",
    "    data = download_data(url)\n",
    "    if data:\n",
    "        df = process_data(data)\n",
    "        save_as_excel(df, \"pokemon_data.xlsx\")\n",
    "        print(\"Data saved as pokemon_data.xlsx\")\n",
    "    else:\n",
    "        print(\"Failed to download data from the provided link.\")\n",
    "\n",
    "if __name__ == \"__main__\":\n",
    "    main()\n"
   ]
  }
 ],
 "metadata": {
  "kernelspec": {
   "display_name": "Python 3",
   "language": "python",
   "name": "python3"
  },
  "language_info": {
   "codemirror_mode": {
    "name": "ipython",
    "version": 3
   },
   "file_extension": ".py",
   "mimetype": "text/x-python",
   "name": "python",
   "nbconvert_exporter": "python",
   "pygments_lexer": "ipython3",
   "version": "3.8.0"
  },
  "orig_nbformat": 4
 },
 "nbformat": 4,
 "nbformat_minor": 2
}
