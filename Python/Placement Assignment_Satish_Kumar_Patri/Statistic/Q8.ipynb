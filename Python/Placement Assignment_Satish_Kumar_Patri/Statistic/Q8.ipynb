{
 "cells": [
  {
   "cell_type": "code",
   "execution_count": 1,
   "metadata": {},
   "outputs": [
    {
     "name": "stdout",
     "output_type": "stream",
     "text": [
      "Wilcoxon Signed-Rank Test\n",
      "Statistic: 0.0\n",
      "P-value: 0.001953125\n"
     ]
    }
   ],
   "source": [
    "import scipy.stats as stats\n",
    "\n",
    "# Define the data\n",
    "differences = [-3, -2, -2, -3, -1, -1, -2, -1, -2, -2]\n",
    "\n",
    "# Perform the Wilcoxon signed-rank test\n",
    "statistic, p_value = stats.wilcoxon(differences)\n",
    "\n",
    "# Print the test results\n",
    "print(\"Wilcoxon Signed-Rank Test\")\n",
    "print(f\"Statistic: {statistic}\")\n",
    "print(f\"P-value: {p_value}\")\n"
   ]
  }
 ],
 "metadata": {
  "kernelspec": {
   "display_name": "Python 3",
   "language": "python",
   "name": "python3"
  },
  "language_info": {
   "codemirror_mode": {
    "name": "ipython",
    "version": 3
   },
   "file_extension": ".py",
   "mimetype": "text/x-python",
   "name": "python",
   "nbconvert_exporter": "python",
   "pygments_lexer": "ipython3",
   "version": "3.8.0"
  },
  "orig_nbformat": 4
 },
 "nbformat": 4,
 "nbformat_minor": 2
}
