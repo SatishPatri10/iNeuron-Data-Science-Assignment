{
 "cells": [
  {
   "cell_type": "code",
   "execution_count": 1,
   "metadata": {},
   "outputs": [
    {
     "name": "stdout",
     "output_type": "stream",
     "text": [
      "The mean scores of the students are the same (fail to reject the null hypothesis).\n",
      "The student with the highest score is: jeevan\n"
     ]
    }
   ],
   "source": [
    "import pandas as pd\n",
    "from scipy.stats import f_oneway\n",
    "\n",
    "# Create a DataFrame with the given data\n",
    "data = {\n",
    "    'Name': ['Karan', 'Deepa', 'Karthik', 'Chandan', 'jeevan'],\n",
    "    'Exam1': [85, 70, 90, 75, 95],\n",
    "    'Exam2': [90, 80, 85, 70, 92],\n",
    "    'Final_Exam': [92, 85, 88, 75, 96]\n",
    "}\n",
    "\n",
    "df = pd.DataFrame(data)\n",
    "\n",
    "# Perform ANOVA test\n",
    "statistic, p_value = f_oneway(df['Exam1'], df['Exam2'], df['Final_Exam'])\n",
    "\n",
    "# Check if the p-value is less than the significance level (e.g., 0.05) for rejecting the null hypothesis\n",
    "if p_value < 0.05:\n",
    "    print(\"The mean scores of the students are different (reject the null hypothesis).\")\n",
    "else:\n",
    "    print(\"The mean scores of the students are the same (fail to reject the null hypothesis).\")\n",
    "\n",
    "# Calculate total scores for each student\n",
    "df['Total_Score'] = df['Exam1'] + df['Exam2'] + df['Final_Exam']\n",
    "\n",
    "# Find the student with the highest total score\n",
    "highest_score_student = df.loc[df['Total_Score'].idxmax(), 'Name']\n",
    "\n",
    "print(\"The student with the highest score is:\", highest_score_student)\n"
   ]
  },
  {
   "cell_type": "code",
   "execution_count": null,
   "metadata": {},
   "outputs": [],
   "source": []
  }
 ],
 "metadata": {
  "kernelspec": {
   "display_name": "Python 3",
   "language": "python",
   "name": "python3"
  },
  "language_info": {
   "codemirror_mode": {
    "name": "ipython",
    "version": 3
   },
   "file_extension": ".py",
   "mimetype": "text/x-python",
   "name": "python",
   "nbconvert_exporter": "python",
   "pygments_lexer": "ipython3",
   "version": "3.8.0"
  },
  "orig_nbformat": 4
 },
 "nbformat": 4,
 "nbformat_minor": 2
}
