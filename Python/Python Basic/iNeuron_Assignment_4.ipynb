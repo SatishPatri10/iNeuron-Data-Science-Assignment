{
 "cells": [
  {
   "cell_type": "markdown",
   "id": "cd8acd16",
   "metadata": {},
   "source": [
    "__1. What exactly is []?__"
   ]
  },
  {
   "cell_type": "markdown",
   "id": "6aa146da",
   "metadata": {},
   "source": [
    "__Ans.__ [] is an empty list. This basically doesnt contain anything."
   ]
  },
  {
   "cell_type": "markdown",
   "id": "7a855a81",
   "metadata": {},
   "source": [
    "__2. In a list of values stored in a variable called spam, how would you assign the value 'hello' as the third value? (Assume [2, 4, 6, 8, 10] are in spam.__"
   ]
  },
  {
   "cell_type": "code",
   "execution_count": 1,
   "id": "ef63202d",
   "metadata": {},
   "outputs": [
    {
     "name": "stdout",
     "output_type": "stream",
     "text": [
      "[2, 4, 'hello', 8, 10]\n"
     ]
    }
   ],
   "source": [
    "spam= [2,4,6,8,10]\n",
    "spam[2] = 'hello'\n",
    "print(spam)"
   ]
  },
  {
   "cell_type": "markdown",
   "id": "184fe9d4",
   "metadata": {},
   "source": [
    "__3. What is the value of spam[int(int(3* 2) / 11)]?__"
   ]
  },
  {
   "cell_type": "code",
   "execution_count": 2,
   "id": "6d98628f",
   "metadata": {},
   "outputs": [
    {
     "name": "stdout",
     "output_type": "stream",
     "text": [
      "[3]\n"
     ]
    }
   ],
   "source": [
    "spam = [int(int('3' * 2) / 11)]\n",
    "print(spam)"
   ]
  },
  {
   "cell_type": "markdown",
   "id": "95d56cf6",
   "metadata": {},
   "source": [
    "__4. What is the value of spam[-1]?__"
   ]
  },
  {
   "cell_type": "code",
   "execution_count": 3,
   "id": "b8b375b3",
   "metadata": {},
   "outputs": [
    {
     "name": "stdout",
     "output_type": "stream",
     "text": [
      "[3]\n"
     ]
    }
   ],
   "source": [
    "spam[-1]\n",
    "print(spam)"
   ]
  },
  {
   "cell_type": "markdown",
   "id": "658c54bf",
   "metadata": {},
   "source": [
    "__5. What is the value of spam[:2]?__"
   ]
  },
  {
   "cell_type": "code",
   "execution_count": 4,
   "id": "cf027ee6",
   "metadata": {},
   "outputs": [
    {
     "name": "stdout",
     "output_type": "stream",
     "text": [
      "[3]\n"
     ]
    }
   ],
   "source": [
    "spam[:2]\n",
    "print(spam)"
   ]
  },
  {
   "cell_type": "markdown",
   "id": "b4c852bc",
   "metadata": {},
   "source": [
    "__Let's pretend bacon has the list [3.14, 'cat', 11, 'cat', True] for the next three questions.__"
   ]
  },
  {
   "cell_type": "markdown",
   "id": "1ce73654",
   "metadata": {},
   "source": [
    "__6. What is the value of bacon.index('cat')?__"
   ]
  },
  {
   "cell_type": "markdown",
   "id": "c9bdd86a",
   "metadata": {},
   "source": [
    "__Ans.__ The value of bacon.index('cat') is 1"
   ]
  },
  {
   "cell_type": "code",
   "execution_count": 5,
   "id": "a6c215fa",
   "metadata": {},
   "outputs": [
    {
     "name": "stdout",
     "output_type": "stream",
     "text": [
      "bacon.index('cat') -> 1\n"
     ]
    }
   ],
   "source": [
    "bacon = [3.14, 'cat', 11, 'cat', True]\n",
    "print(\"bacon.index('cat') ->\",bacon.index('cat'))"
   ]
  },
  {
   "cell_type": "markdown",
   "id": "49fa9af3",
   "metadata": {},
   "source": [
    "__7. How does bacon.append(99) change the look of the list value in bacon?__"
   ]
  },
  {
   "cell_type": "code",
   "execution_count": 6,
   "id": "1f8c7fb0",
   "metadata": {},
   "outputs": [
    {
     "name": "stdout",
     "output_type": "stream",
     "text": [
      "Before Append [3.14, 'cat', 11, 'cat', True]\n",
      "After Append [3.14, 'cat', 11, 'cat', True, 99]\n"
     ]
    }
   ],
   "source": [
    "print(\"Before Append\", bacon)\n",
    "bacon.append(99)\n",
    "print(\"After Append\", bacon)"
   ]
  },
  {
   "cell_type": "markdown",
   "id": "471f8655",
   "metadata": {},
   "source": [
    "__8. How does bacon.remove(&#39;cat&#39;) change the look of the list in bacon?__"
   ]
  },
  {
   "cell_type": "code",
   "execution_count": 7,
   "id": "8bcc5622",
   "metadata": {},
   "outputs": [
    {
     "name": "stdout",
     "output_type": "stream",
     "text": [
      "Before Remove [3.14, 'cat', 11, 'cat', True, 99]\n",
      "After Remove [3.14, 11, 'cat', True, 99]\n"
     ]
    }
   ],
   "source": [
    "print(\"Before Remove\", bacon)\n",
    "bacon.remove('cat')\n",
    "print(\"After Remove\", bacon)"
   ]
  },
  {
   "cell_type": "markdown",
   "id": "083a26dc",
   "metadata": {},
   "source": [
    "__9. What are the list concatenation and list replication operators?__"
   ]
  },
  {
   "cell_type": "markdown",
   "id": "b0e9b125",
   "metadata": {},
   "source": [
    "__Ans.__ The operator for list concatenation is +, while the operator for replication is *. "
   ]
  },
  {
   "cell_type": "markdown",
   "id": "657fedf5",
   "metadata": {},
   "source": [
    "__10. What is difference between the list methods append() and insert()?__"
   ]
  },
  {
   "cell_type": "markdown",
   "id": "31e0bddb",
   "metadata": {},
   "source": [
    "__Ans.__ The append() will add values only to the end of a list, insert() can add them anywhere in the list"
   ]
  },
  {
   "cell_type": "markdown",
   "id": "f3ccf83c",
   "metadata": {},
   "source": [
    "__11. What are the two methods for removing items from a list?__"
   ]
  },
  {
   "cell_type": "markdown",
   "id": "fd9bd3e2",
   "metadata": {},
   "source": [
    "__Ans.__ The del statement and the remove() method are two ways to remove values from a list."
   ]
  },
  {
   "cell_type": "markdown",
   "id": "f9cccef4",
   "metadata": {},
   "source": [
    "__12. Describe how list values and string values are identical.__"
   ]
  },
  {
   "cell_type": "markdown",
   "id": "4463ebdc",
   "metadata": {},
   "source": [
    "__Ans.__ Both lists and strings can be passed to len() function, have indexes and slices, be used in for loops, be concatenated or replicated, and be used with the in and not in operators."
   ]
  },
  {
   "cell_type": "markdown",
   "id": "76a4fa0b",
   "metadata": {},
   "source": [
    "__13. What's the difference between tuples and lists?__"
   ]
  },
  {
   "cell_type": "markdown",
   "id": "c832bc57",
   "metadata": {},
   "source": [
    "__Ans.__ Lists are Mutable, Indexable and Slicable. they can have values added, removed, or changed. Tuples are Immutable but Indexable and Slicable. the tuple values cannot be changed at all. Also, tuples are represented using parentheses, (), while lists use the square brackets, []."
   ]
  },
  {
   "cell_type": "markdown",
   "id": "4f09c861",
   "metadata": {},
   "source": [
    "__14. How do you type a tuple value that only contains the integer 42?__"
   ]
  },
  {
   "cell_type": "code",
   "execution_count": 8,
   "id": "5861aa52",
   "metadata": {},
   "outputs": [
    {
     "name": "stdout",
     "output_type": "stream",
     "text": [
      "<class 'tuple'>\n"
     ]
    }
   ],
   "source": [
    "tup=(42,)\n",
    "print(type(tup))"
   ]
  },
  {
   "cell_type": "markdown",
   "id": "1ac9abea",
   "metadata": {},
   "source": [
    "__15. How do you get a list value's tuple form? How do you get a tuple value's list form?__"
   ]
  },
  {
   "cell_type": "markdown",
   "id": "f0c37a77",
   "metadata": {},
   "source": [
    "__Ans.__ The tuple() and list() functions, respectively are used to convert a list to tuple and vice versa."
   ]
  },
  {
   "cell_type": "markdown",
   "id": "8ad6d21e",
   "metadata": {},
   "source": [
    "__16. Variables that \"contain\" list values are not necessarily lists themselves. Instead, what do they contain?__"
   ]
  },
  {
   "cell_type": "markdown",
   "id": "908a3b6f",
   "metadata": {},
   "source": [
    "__Ans.__ They contain references to list values."
   ]
  },
  {
   "cell_type": "markdown",
   "id": "6f3aa682",
   "metadata": {},
   "source": [
    "__17. How do you distinguish between copy.copy() and copy.deepcopy()?__"
   ]
  },
  {
   "cell_type": "markdown",
   "id": "3dbfff3d",
   "metadata": {},
   "source": [
    "__Ans.__ The copy.copy() function will do a shallow copy of a list, while the copy.deepcopy() function will do a deep copy of a list. That is, only copy.deepcopy() will duplicate any lists inside the list."
   ]
  }
 ],
 "metadata": {
  "kernelspec": {
   "display_name": "Python 3 (ipykernel)",
   "language": "python",
   "name": "python3"
  },
  "language_info": {
   "codemirror_mode": {
    "name": "ipython",
    "version": 3
   },
   "file_extension": ".py",
   "mimetype": "text/x-python",
   "name": "python",
   "nbconvert_exporter": "python",
   "pygments_lexer": "ipython3",
   "version": "3.9.12"
  }
 },
 "nbformat": 4,
 "nbformat_minor": 5
}
