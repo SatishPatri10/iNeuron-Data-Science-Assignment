{
 "cells": [
  {
   "cell_type": "markdown",
   "id": "f77a5d6a",
   "metadata": {},
   "source": [
    "# Assignment 5"
   ]
  },
  {
   "cell_type": "markdown",
   "id": "f754c72e",
   "metadata": {},
   "source": [
    "__1. What does an empty dictionary's code look like?__"
   ]
  },
  {
   "cell_type": "markdown",
   "id": "fde8b634",
   "metadata": {},
   "source": [
    "__Ans:__ An empty dictionary is often represented by two empty curly brackets\n",
    "d = {} or d = dict()"
   ]
  },
  {
   "cell_type": "markdown",
   "id": "180df505",
   "metadata": {},
   "source": [
    "__2. What is the value of a dictionary value with the key 'foo' and the value 42?__"
   ]
  },
  {
   "cell_type": "markdown",
   "id": "4a14c0fa",
   "metadata": {},
   "source": [
    "__Ans.__ {'foo':42}"
   ]
  },
  {
   "cell_type": "markdown",
   "id": "2edf800d",
   "metadata": {},
   "source": [
    "__3. What is the most significant distinction between a dictionary and a list?__"
   ]
  },
  {
   "cell_type": "markdown",
   "id": "5b29a0fa",
   "metadata": {},
   "source": [
    "__Ans.__ Dictionaries are represented by {} where as listed are represented by []\n",
    "The Items stored in a dictionary are Unordered , while the items in a list are ordered"
   ]
  },
  {
   "cell_type": "markdown",
   "id": "112eb6c6",
   "metadata": {},
   "source": [
    "__4. What happens if you try to access spam ['foo'] if spam is {'bar':100} ?__"
   ]
  },
  {
   "cell_type": "markdown",
   "id": "44965e4d",
   "metadata": {},
   "source": [
    "__Ans.__ We will get KeyError: 'foo'."
   ]
  },
  {
   "cell_type": "code",
   "execution_count": 1,
   "id": "c9693229",
   "metadata": {},
   "outputs": [
    {
     "ename": "KeyError",
     "evalue": "'foo'",
     "output_type": "error",
     "traceback": [
      "\u001b[1;31m---------------------------------------------------------------------------\u001b[0m",
      "\u001b[1;31mKeyError\u001b[0m                                  Traceback (most recent call last)",
      "Input \u001b[1;32mIn [1]\u001b[0m, in \u001b[0;36m<cell line: 2>\u001b[1;34m()\u001b[0m\n\u001b[0;32m      1\u001b[0m spam \u001b[38;5;241m=\u001b[39m {\u001b[38;5;124m'\u001b[39m\u001b[38;5;124mbar\u001b[39m\u001b[38;5;124m'\u001b[39m:\u001b[38;5;241m100\u001b[39m}\n\u001b[1;32m----> 2\u001b[0m \u001b[38;5;28mprint\u001b[39m(\u001b[43mspam\u001b[49m\u001b[43m[\u001b[49m\u001b[38;5;124;43m'\u001b[39;49m\u001b[38;5;124;43mfoo\u001b[39;49m\u001b[38;5;124;43m'\u001b[39;49m\u001b[43m]\u001b[49m)\n",
      "\u001b[1;31mKeyError\u001b[0m: 'foo'"
     ]
    }
   ],
   "source": [
    "spam = {'bar':100}\n",
    "print(spam['foo'])"
   ]
  },
  {
   "cell_type": "markdown",
   "id": "14702eac",
   "metadata": {},
   "source": [
    "__5.If a dictionary is stored in spam,what is the difference between the expressions 'cat' in spam and 'cat' in spam.keys() ?__"
   ]
  },
  {
   "cell_type": "markdown",
   "id": "96ab61fc",
   "metadata": {},
   "source": [
    "__Ans.__ There is no difference . The operator checks whether a value exits as a key in the dictionary or not."
   ]
  },
  {
   "cell_type": "markdown",
   "id": "e43b6742",
   "metadata": {},
   "source": [
    "__6.If a dictionary is stored in spam,what is the difference between the expressions 'cat' in spam and 'cat' in spam.values() ?__"
   ]
  },
  {
   "cell_type": "markdown",
   "id": "86fa2d8e",
   "metadata": {},
   "source": [
    "__Ans.__ 'cat' in spam checks whether there is a 'cat' key in the dictionary, while 'cat' in spam.values() checks whether there is a value 'cat' for one of the keys in spam."
   ]
  },
  {
   "cell_type": "markdown",
   "id": "6bfca95f",
   "metadata": {},
   "source": [
    "__7.what is a shortcut for the following code ?\n",
    "if 'color' not in spam:\n",
    "    spam['color'] ='black'__"
   ]
  },
  {
   "cell_type": "markdown",
   "id": "05d02df9",
   "metadata": {},
   "source": [
    "__Ans.__ spam.setdefault('color','black')"
   ]
  },
  {
   "cell_type": "markdown",
   "id": "51b0b5cf",
   "metadata": {},
   "source": [
    "__8. How do you 'pretty print' dictionary values using which modules and function ?__"
   ]
  },
  {
   "cell_type": "markdown",
   "id": "83d35520",
   "metadata": {},
   "source": [
    "__Ans.__ We can pretty print a dictionary using three functions:\n",
    "\n",
    "    1.by using pprint() function of pprint module\n",
    "      Note: pprint() function doesnot prettify nested dictionaries\n",
    "    2.by using dumps() method of json module\n",
    "    3.by using dumps() method of yaml module"
   ]
  },
  {
   "cell_type": "code",
   "execution_count": 3,
   "id": "6056974b",
   "metadata": {},
   "outputs": [
    {
     "name": "stdout",
     "output_type": "stream",
     "text": [
      "Printing using print() function\n",
      " [{'Name': 'Dhoni', 'Age': '42', 'Residence': {'Country': 'India', 'City': 'Jharkhand'}}, {'Name': 'Jadeja', 'Age': '35', 'Residence': {'Country': 'India', 'City': 'Rajasthan'}}, {'Name': 'Raina', 'Age': '37', 'Residence': {'Country': 'India', 'City': 'UP'}}, {'Name': 'Virat', 'Age': '35', 'Residence': {'Country': 'India', 'City': 'Delhi'}}, {'Name': 'Rohit', 'Age': '36', 'Residence': {'Country': 'India', 'City': 'Mumbai'}}]\n",
      "....................................................................................................\n",
      "Printing using pprint() funciton\n",
      "[{'Age': '42',\n",
      "  'Name': 'Dhoni',\n",
      "  'Residence': {'City': 'Jharkhand', 'Country': 'India'}},\n",
      " {'Age': '35',\n",
      "  'Name': 'Jadeja',\n",
      "  'Residence': {'City': 'Rajasthan', 'Country': 'India'}},\n",
      " {'Age': '37',\n",
      "  'Name': 'Raina',\n",
      "  'Residence': {'City': 'UP', 'Country': 'India'}},\n",
      " {'Age': '35',\n",
      "  'Name': 'Virat',\n",
      "  'Residence': {'City': 'Delhi', 'Country': 'India'}},\n",
      " {'Age': '36',\n",
      "  'Name': 'Rohit',\n",
      "  'Residence': {'City': 'Mumbai', 'Country': 'India'}}]\n",
      "....................................................................................................\n",
      "Printing using dumps() method\n",
      " [\n",
      "    {\n",
      "        \"Name\": \"Dhoni\",\n",
      "        \"Age\": \"42\",\n",
      "        \"Residence\": {\n",
      "            \"Country\": \"India\",\n",
      "            \"City\": \"Jharkhand\"\n",
      "        }\n",
      "    },\n",
      "    {\n",
      "        \"Name\": \"Jadeja\",\n",
      "        \"Age\": \"35\",\n",
      "        \"Residence\": {\n",
      "            \"Country\": \"India\",\n",
      "            \"City\": \"Rajasthan\"\n",
      "        }\n",
      "    },\n",
      "    {\n",
      "        \"Name\": \"Raina\",\n",
      "        \"Age\": \"37\",\n",
      "        \"Residence\": {\n",
      "            \"Country\": \"India\",\n",
      "            \"City\": \"UP\"\n",
      "        }\n",
      "    },\n",
      "    {\n",
      "        \"Name\": \"Virat\",\n",
      "        \"Age\": \"35\",\n",
      "        \"Residence\": {\n",
      "            \"Country\": \"India\",\n",
      "            \"City\": \"Delhi\"\n",
      "        }\n",
      "    },\n",
      "    {\n",
      "        \"Name\": \"Rohit\",\n",
      "        \"Age\": \"36\",\n",
      "        \"Residence\": {\n",
      "            \"Country\": \"India\",\n",
      "            \"City\": \"Mumbai\"\n",
      "        }\n",
      "    }\n",
      "]\n",
      "..........\n",
      "Printing using dump() method\n",
      " - Age: '42'\n",
      "  Name: Dhoni\n",
      "  Residence:\n",
      "    City: Jharkhand\n",
      "    Country: India\n",
      "- Age: '35'\n",
      "  Name: Jadeja\n",
      "  Residence:\n",
      "    City: Rajasthan\n",
      "    Country: India\n",
      "- Age: '37'\n",
      "  Name: Raina\n",
      "  Residence:\n",
      "    City: UP\n",
      "    Country: India\n",
      "- Age: '35'\n",
      "  Name: Virat\n",
      "  Residence:\n",
      "    City: Delhi\n",
      "    Country: India\n",
      "- Age: '36'\n",
      "  Name: Rohit\n",
      "  Residence:\n",
      "    City: Mumbai\n",
      "    Country: India\n",
      "\n"
     ]
    }
   ],
   "source": [
    "#example\n",
    "\n",
    "ndict = [\n",
    "  {'Name': 'Dhoni', 'Age': '42', 'Residence': {'Country':'India', 'City': 'Jharkhand'}},\n",
    "  {'Name': 'Jadeja', 'Age': '35', 'Residence': {'Country':'India', 'City': 'Rajasthan'}},\n",
    "  {'Name': 'Raina', 'Age': '37', 'Residence': {'Country':'India', 'City': 'UP'}},\n",
    "  {'Name': 'Virat', 'Age': '35', 'Residence': {'Country':'India', 'City': 'Delhi'}},\n",
    "  {'Name': 'Rohit', 'Age': '36', 'Residence': {'Country':'India', 'City': 'Mumbai'}}\n",
    "]\n",
    "\n",
    "print('Printing using print() function\\n',ndict)\n",
    "print('.'*100)\n",
    "import pprint\n",
    "print('Printing using pprint() funciton')\n",
    "pprint.pprint(ndict)\n",
    "print('.'*100)\n",
    "import json\n",
    "dump = json.dumps(ndict, indent=4)\n",
    "print('Printing using dumps() method\\n', dump)\n",
    "print('.'*10)\n",
    "import yaml\n",
    "dump = yaml.dump(ndict)\n",
    "print('Printing using dump() method\\n', dump)"
   ]
  },
  {
   "cell_type": "code",
   "execution_count": null,
   "id": "7f4698bf",
   "metadata": {},
   "outputs": [],
   "source": []
  }
 ],
 "metadata": {
  "kernelspec": {
   "display_name": "Python 3 (ipykernel)",
   "language": "python",
   "name": "python3"
  },
  "language_info": {
   "codemirror_mode": {
    "name": "ipython",
    "version": 3
   },
   "file_extension": ".py",
   "mimetype": "text/x-python",
   "name": "python",
   "nbconvert_exporter": "python",
   "pygments_lexer": "ipython3",
   "version": "3.9.12"
  }
 },
 "nbformat": 4,
 "nbformat_minor": 5
}
