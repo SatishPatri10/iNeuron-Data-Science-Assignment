{
 "cells": [
  {
   "cell_type": "markdown",
   "id": "ef785689",
   "metadata": {},
   "source": [
    "# Assignment 6"
   ]
  },
  {
   "cell_type": "markdown",
   "id": "21fc0571",
   "metadata": {},
   "source": [
    "__1. What are escape characters, and how do you use them?__"
   ]
  },
  {
   "cell_type": "markdown",
   "id": "dd8b8dd9",
   "metadata": {},
   "source": [
    "__Ans.__ An escape character is a backslash \\ followed by the character you want to insert. We use them to insert characters that are illegal in a string."
   ]
  },
  {
   "cell_type": "markdown",
   "id": "0cffd07a",
   "metadata": {},
   "source": [
    "__2. What do the escape characters \\n and \\t stand for?__"
   ]
  },
  {
   "cell_type": "markdown",
   "id": "0e168e4e",
   "metadata": {},
   "source": [
    "__Ans__ \\n - New Line & \n",
    "        \\t - Tab"
   ]
  },
  {
   "cell_type": "markdown",
   "id": "e1aa4c2d",
   "metadata": {},
   "source": [
    "__3. What is the way to include backslash characters in a string?__"
   ]
  },
  {
   "cell_type": "markdown",
   "id": "c1fe700e",
   "metadata": {},
   "source": [
    "__Ans.__ To include a backslash characters in a string, you have write double blackslash i.e. \\\\."
   ]
  },
  {
   "cell_type": "code",
   "execution_count": 1,
   "id": "8bf5f4d1",
   "metadata": {},
   "outputs": [
    {
     "name": "stdout",
     "output_type": "stream",
     "text": [
      "Task's\n"
     ]
    }
   ],
   "source": [
    "s= \"Task\\'s\"\n",
    "print(s)"
   ]
  },
  {
   "cell_type": "markdown",
   "id": "d0cd9ad8",
   "metadata": {},
   "source": [
    "__4. The string \"Howl's Moving Castle\" is a correct value. Why isn't the single quote character in the word Howl's\n",
    "not escaped a problem?__"
   ]
  },
  {
   "cell_type": "markdown",
   "id": "6ebed609",
   "metadata": {},
   "source": [
    "__Ans.__ We can repressent a string within the single quote character or within the double quote character. Since we have \n",
    "enclosed the \"Howl's Moving Castle\" in double quote. hence the signle quote character is not a problem."
   ]
  },
  {
   "cell_type": "markdown",
   "id": "ea288958",
   "metadata": {},
   "source": [
    "__5. How do you write a string of newlines if you don't want to use the n character?__"
   ]
  },
  {
   "cell_type": "markdown",
   "id": "36c6cfb8",
   "metadata": {},
   "source": [
    "__Ans.__ We can write end=\"\" in the print statement"
   ]
  },
  {
   "cell_type": "markdown",
   "id": "97bc1337",
   "metadata": {},
   "source": [
    "__6. What are the values of the given expressions?__\n"
   ]
  },
  {
   "cell_type": "code",
   "execution_count": 2,
   "id": "7bd441c2",
   "metadata": {},
   "outputs": [
    {
     "name": "stdout",
     "output_type": "stream",
     "text": [
      "e\n",
      "Hello\n",
      "Hello\n",
      "lo, world!\n"
     ]
    }
   ],
   "source": [
    "print('Hello, world!'[1])\n",
    "print('Hello, world!'[0:5])\n",
    "print('Hello, world!'[:5])\n",
    "print('Hello, world!'[3:])"
   ]
  },
  {
   "cell_type": "markdown",
   "id": "8ca53bf1",
   "metadata": {},
   "source": [
    "__7. What are the values of the following expressions?__"
   ]
  },
  {
   "cell_type": "code",
   "execution_count": 3,
   "id": "2ba1f695",
   "metadata": {},
   "outputs": [
    {
     "name": "stdout",
     "output_type": "stream",
     "text": [
      "HELLO\n",
      "True\n",
      "hello\n"
     ]
    }
   ],
   "source": [
    "print('Hello'.upper())\n",
    "print('Hello'.upper().isupper())\n",
    "print('Hello'.upper().lower())"
   ]
  },
  {
   "cell_type": "markdown",
   "id": "0e6ed540",
   "metadata": {},
   "source": [
    "__8. What are the values of the following expressions?\n",
    "'Remember, remember, the fifth of July.'.split()\n",
    "'-'.join('There can only one.'.split())__"
   ]
  },
  {
   "cell_type": "markdown",
   "id": "26cfdb33",
   "metadata": {},
   "source": [
    "__Ans -__ \n",
    "'Remember, remember, the fifth of July.'.split() -  this expression will split the string whereever it encounter with a \n",
    "whitespace. and the output will be \n",
    "['Remember,', 'remember,', 'the', 'fifth', 'of', 'July.']\n",
    "\n",
    "'-'.join('There can only one.'.split()) - as above it will split based on white space then join the words with hyphen and\n",
    "the otput will be :\n",
    "'There-can-only-one.'"
   ]
  },
  {
   "cell_type": "markdown",
   "id": "ed33015d",
   "metadata": {},
   "source": [
    "__9. What are the methods for right-justifying, left-justifying, and centering a string?__"
   ]
  },
  {
   "cell_type": "markdown",
   "id": "8c985881",
   "metadata": {},
   "source": [
    "__Ans.__ The methods for right-justifying, left-justifying, and centering a string are rjust(), ljust() and center() \n",
    "respectively."
   ]
  },
  {
   "cell_type": "markdown",
   "id": "fe83cdea",
   "metadata": {},
   "source": [
    "__10. What is the best way to remove whitespace characters from the start or end?__"
   ]
  },
  {
   "cell_type": "markdown",
   "id": "3fae4fab",
   "metadata": {},
   "source": [
    "__Ans.__ Its recommended to use the strip method to rmeove the white spaces from the start and end."
   ]
  },
  {
   "cell_type": "code",
   "execution_count": 4,
   "id": "35e0764e",
   "metadata": {},
   "outputs": [
    {
     "data": {
      "text/plain": [
       "'satish'"
      ]
     },
     "execution_count": 4,
     "metadata": {},
     "output_type": "execute_result"
    }
   ],
   "source": [
    "s=\"  satish   \"\n",
    "s.strip()"
   ]
  }
 ],
 "metadata": {
  "kernelspec": {
   "display_name": "Python 3 (ipykernel)",
   "language": "python",
   "name": "python3"
  },
  "language_info": {
   "codemirror_mode": {
    "name": "ipython",
    "version": 3
   },
   "file_extension": ".py",
   "mimetype": "text/x-python",
   "name": "python",
   "nbconvert_exporter": "python",
   "pygments_lexer": "ipython3",
   "version": "3.9.12"
  }
 },
 "nbformat": 4,
 "nbformat_minor": 5
}
