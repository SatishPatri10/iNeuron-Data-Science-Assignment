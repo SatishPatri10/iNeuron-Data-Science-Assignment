{
 "cells": [
  {
   "cell_type": "markdown",
   "id": "8d7bfaff",
   "metadata": {},
   "source": [
    "# Assignment 3"
   ]
  },
  {
   "cell_type": "markdown",
   "id": "215fadb2",
   "metadata": {},
   "source": [
    "**1. Why are functions advantageous to have in your programs?**"
   ]
  },
  {
   "cell_type": "markdown",
   "id": "bd3edc3c",
   "metadata": {},
   "source": [
    "__Ans.__ Funtions are advantageous because once we define a function we can call it multiple times wherever needed."
   ]
  },
  {
   "cell_type": "markdown",
   "id": "e9206be6",
   "metadata": {},
   "source": [
    "**2. When does the code in a function run: when it's specified or when it's called?**"
   ]
  },
  {
   "cell_type": "markdown",
   "id": "a918c30c",
   "metadata": {},
   "source": [
    "__Ans.__ The code in a function executes when the function is called, not when the function is specified."
   ]
  },
  {
   "cell_type": "markdown",
   "id": "54dce786",
   "metadata": {},
   "source": [
    "**3. What statement creates a function?**"
   ]
  },
  {
   "cell_type": "markdown",
   "id": "f45dd65f",
   "metadata": {},
   "source": [
    "__Ans.__ The **def** statement defines a function."
   ]
  },
  {
   "cell_type": "markdown",
   "id": "888f433f",
   "metadata": {},
   "source": [
    "__4. What is the difference between a function and a function call?__"
   ]
  },
  {
   "cell_type": "markdown",
   "id": "50c9c321",
   "metadata": {},
   "source": [
    "__Ans.__ A function is procedure to achieve a particular result. while function call is using this function to achive that task. Using a function to do a particular task any point in program is called as function call."
   ]
  },
  {
   "cell_type": "markdown",
   "id": "9477da77",
   "metadata": {},
   "source": [
    "__5. How many global scopes are there in a Python program? How many local scopes?__"
   ]
  },
  {
   "cell_type": "markdown",
   "id": "0606f207",
   "metadata": {},
   "source": [
    "__Ans.__ There is one global scope, and a local scope is created whenever a function is called."
   ]
  },
  {
   "cell_type": "markdown",
   "id": "efab8794",
   "metadata": {},
   "source": [
    "__6. What happens to variables in a local scope when the function call returns?__"
   ]
  },
  {
   "cell_type": "markdown",
   "id": "99212b2f",
   "metadata": {},
   "source": [
    "__Ans.__ When the function call returns all the local scope are destroyed and removed from the memory."
   ]
  },
  {
   "cell_type": "markdown",
   "id": "259b13f8",
   "metadata": {},
   "source": [
    "__7. What is the concept of a return value? Is it possible to have a return value in an expression?__"
   ]
  },
  {
   "cell_type": "markdown",
   "id": "1652d300",
   "metadata": {},
   "source": [
    "__Ans.__ The value that a function return on a funtion call is called the return value.Like any value, a return value can be used as part of an expression."
   ]
  },
  {
   "cell_type": "markdown",
   "id": "8e3ca577",
   "metadata": {},
   "source": [
    "__8. If a function does not have a return statement, what is the return value of a call to that function?__"
   ]
  },
  {
   "cell_type": "markdown",
   "id": "37f57c35",
   "metadata": {},
   "source": [
    "__Ans.__ If there is no return statement for a function, its return value is None."
   ]
  },
  {
   "cell_type": "markdown",
   "id": "a747726e",
   "metadata": {},
   "source": [
    "__9. How do you make a function variable refer to the global variable?__"
   ]
  },
  {
   "cell_type": "markdown",
   "id": "29a40e7d",
   "metadata": {},
   "source": [
    "__Ans.__  A global statement will force a variable in a function to refer to the global variable. If you want to refer to a global variable in a function, you can use the __global keyword__ to declare which variables are global."
   ]
  },
  {
   "cell_type": "markdown",
   "id": "3bb64095",
   "metadata": {},
   "source": [
    "__10. What is the data type of None?__"
   ]
  },
  {
   "cell_type": "markdown",
   "id": "d9de6b53",
   "metadata": {},
   "source": [
    "__Ans.__ NoneType"
   ]
  },
  {
   "cell_type": "markdown",
   "id": "88279d5e",
   "metadata": {},
   "source": [
    "__11. What does the sentence import areallyourpetsnamederic do?__"
   ]
  },
  {
   "cell_type": "markdown",
   "id": "8a757024",
   "metadata": {},
   "source": [
    "__Ans.__ The import statement imports a module named areallyourpetsnamederic"
   ]
  },
  {
   "cell_type": "markdown",
   "id": "046c7870",
   "metadata": {},
   "source": [
    "__12. If you had a bacon() feature in a spam module, what would you call it after importing spam?__"
   ]
  },
  {
   "cell_type": "markdown",
   "id": "bc29294b",
   "metadata": {},
   "source": [
    "__Ans.__ We can cal the bacon() feature as __spam.bacon()__ ."
   ]
  },
  {
   "cell_type": "markdown",
   "id": "23e4d52a",
   "metadata": {},
   "source": [
    "__13. What can you do to save a programme from crashing if it encounters an error?__"
   ]
  },
  {
   "cell_type": "markdown",
   "id": "e7419fa8",
   "metadata": {},
   "source": [
    "__Ans.__ We can use __try__ clause to catch the error & __block__ clause to handle the error."
   ]
  },
  {
   "cell_type": "markdown",
   "id": "b7e45578",
   "metadata": {},
   "source": [
    "__14. What is the purpose of the try clause? What is the purpose of the except clause?__"
   ]
  },
  {
   "cell_type": "markdown",
   "id": "175506cc",
   "metadata": {},
   "source": [
    "__Ans.__ The code that could potentially cause an error goes in the __try__ clause. The code that executes if an error happens goes in the __except__ clause."
   ]
  }
 ],
 "metadata": {
  "kernelspec": {
   "display_name": "Python 3 (ipykernel)",
   "language": "python",
   "name": "python3"
  },
  "language_info": {
   "codemirror_mode": {
    "name": "ipython",
    "version": 3
   },
   "file_extension": ".py",
   "mimetype": "text/x-python",
   "name": "python",
   "nbconvert_exporter": "python",
   "pygments_lexer": "ipython3",
   "version": "3.9.12"
  }
 },
 "nbformat": 4,
 "nbformat_minor": 5
}
